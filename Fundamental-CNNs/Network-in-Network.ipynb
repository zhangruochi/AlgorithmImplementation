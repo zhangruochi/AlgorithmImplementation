{
 "cells": [
  {
   "cell_type": "markdown",
   "metadata": {},
   "source": [
    "# BatchNorm before and after Activation for Network-in-Network CIFAR-10 Classifier"
   ]
  },
  {
   "cell_type": "markdown",
   "metadata": {},
   "source": [
    "### Network Architecture"
   ]
  },
  {
   "cell_type": "markdown",
   "metadata": {},
   "source": [
    "**References**\n",
    "\n",
    "The CNN architecture is based on \n",
    "\n",
    "- Lin, Min, Qiang Chen, and Shuicheng Yan. \"[Network in network](https://arxiv.org/abs/1312.4400).\" arXiv preprint arXiv:1312.4400 (2013).\n",
    "\n",
    "This paper compares using BatchNorm before the activation function as suggested in\n",
    "\n",
    "- Ioffe, Sergey, and Christian Szegedy. \"[Batch normalization: Accelerating deep network training by reducing internal covariate shift.](https://arxiv.org/abs/1502.03167)\" arXiv preprint arXiv:1502.03167 (2015)\n",
    "\n",
    "and after the activation function as it is nowadays common practice."
   ]
  },
  {
   "cell_type": "markdown",
   "metadata": {},
   "source": [
    "![nin-arch](images/nin/nin-arch2.png)"
   ]
  },
  {
   "cell_type": "code",
   "execution_count": 1,
   "metadata": {},
   "outputs": [
    {
     "data": {
      "text/plain": [
       "['',\n",
       " '/anaconda/envs/py36/lib/python36.zip',\n",
       " '/anaconda/envs/py36/lib/python3.6',\n",
       " '/anaconda/envs/py36/lib/python3.6/lib-dynload',\n",
       " '/anaconda/envs/py36/lib/python3.6/site-packages',\n",
       " '/anaconda/envs/py36/lib/python3.6/site-packages/IPython/extensions',\n",
       " '/data/home/zhangruochi/.ipython',\n",
       " '/Users/ZRC']"
      ]
     },
     "execution_count": 1,
     "metadata": {},
     "output_type": "execute_result"
    }
   ],
   "source": [
    "import sys\n",
    "sys.path.append(\"/Users/ZRC\")\n",
    "sys.path"
   ]
  },
  {
   "cell_type": "code",
   "execution_count": 2,
   "metadata": {},
   "outputs": [],
   "source": [
    "%load_ext autoreload\n",
    "%autoreload 2"
   ]
  },
  {
   "cell_type": "code",
   "execution_count": 3,
   "metadata": {},
   "outputs": [],
   "source": [
    "from collections import OrderedDict\n",
    "\n",
    "import matplotlib.pyplot as plt\n",
    "import numpy as np\n",
    "\n",
    "import torch\n",
    "import torch.nn.functional as F\n",
    "\n",
    "from torch.utils.data import DataLoader\n",
    "from torch.utils.data import RandomSampler\n",
    "from torch.utils.data import Subset\n",
    "\n",
    "\n",
    "from torchvision import datasets\n",
    "from torchvision import transforms\n",
    "\n",
    "from torchsummary import summary"
   ]
  },
  {
   "cell_type": "code",
   "execution_count": 4,
   "metadata": {},
   "outputs": [
    {
     "ename": "ModuleNotFoundError",
     "evalue": "No module named 'coke'",
     "output_type": "error",
     "traceback": [
      "\u001b[0;31m---------------------------------------------------------------------------\u001b[0m",
      "\u001b[0;31mModuleNotFoundError\u001b[0m                       Traceback (most recent call last)",
      "\u001b[0;32m<ipython-input-4-db7f413ee7cb>\u001b[0m in \u001b[0;36m<module>\u001b[0;34m\u001b[0m\n\u001b[0;32m----> 1\u001b[0;31m \u001b[0;32mfrom\u001b[0m \u001b[0mcoke\u001b[0m\u001b[0;34m.\u001b[0m\u001b[0mvisualization\u001b[0m\u001b[0;34m.\u001b[0m\u001b[0mimage\u001b[0m \u001b[0;32mimport\u001b[0m \u001b[0mshow_batch\u001b[0m\u001b[0;34m\u001b[0m\u001b[0;34m\u001b[0m\u001b[0m\n\u001b[0m",
      "\u001b[0;31mModuleNotFoundError\u001b[0m: No module named 'coke'"
     ]
    }
   ],
   "source": [
    "from coke.visualization.image import show_batch"
   ]
  },
  {
   "cell_type": "markdown",
   "metadata": {},
   "source": [
    "## Model Settings"
   ]
  },
  {
   "cell_type": "code",
   "execution_count": 5,
   "metadata": {},
   "outputs": [],
   "source": [
    "# Hyperparameters\n",
    "\n",
    "BATCH_SIZE = 64\n",
    "NUM_EPOCHS = 10\n",
    "LEARNING_RATE = 0.0001\n",
    "RANDOM_SEED = 7\n",
    "\n",
    "# Architecture\n",
    "NUM_CLASSES = 10\n",
    "GRAYSCALE = True\n",
    "\n",
    "# # other\n",
    "# torch.cuda.empty_cache()\n",
    "DEVICE = torch.device(\"cuda: 0\" if torch.cuda.is_available() else \"cpu\")"
   ]
  },
  {
   "cell_type": "code",
   "execution_count": 6,
   "metadata": {},
   "outputs": [],
   "source": [
    "data_transforms = {\"train\": transforms.Compose([\n",
    "                            transforms.Resize((32,32)),\n",
    "                            transforms.ToTensor()]),\n",
    "                    \"test\": transforms.Compose([\n",
    "                            transforms.Resize((32,32)),\n",
    "                            transforms.ToTensor()])\n",
    "                   }"
   ]
  },
  {
   "cell_type": "code",
   "execution_count": 7,
   "metadata": {},
   "outputs": [],
   "source": [
    "train_indices = torch.arange(0, 59000)\n",
    "valid_indices = torch.arange(59000, 60000)\n",
    "\n",
    "\n",
    "\n",
    "train_and_valida_dataset = datasets.MNIST(root = \"data\",\n",
    "                                train = True,\n",
    "                                transform = data_transforms[\"train\"],\n",
    "                                download=True)\n",
    "\n",
    "test_dataset = datasets.MNIST(root = \"data\",\n",
    "                                train = False,\n",
    "                                transform = data_transforms[\"test\"],\n",
    "                                download=False)\n",
    "\n",
    "train_dataset = Subset(train_and_valida_dataset, train_indices)\n",
    "valid_dataset = Subset(train_and_valida_dataset, valid_indices)\n",
    "\n",
    "\n",
    "\n",
    "\n",
    "train_dataloader = DataLoader(dataset = train_dataset,\n",
    "                             batch_size=BATCH_SIZE,\n",
    "                             shuffle=True,\n",
    "                             num_workers=4)\n",
    "\n",
    "valid_dataloader = DataLoader(dataset = valid_dataset,\n",
    "                             batch_size=BATCH_SIZE,\n",
    "                             shuffle=False,\n",
    "                             num_workers=4)\n",
    "\n",
    "test_dataloader = DataLoader(dataset = test_dataset,\n",
    "                             batch_size=BATCH_SIZE,\n",
    "                             shuffle=False,\n",
    "                             num_workers=4)\n",
    "\n",
    "data_loader = {\"train\": train_dataloader, \n",
    "               \"val\": valid_dataloader,\n",
    "               \"test\": test_dataloader}"
   ]
  },
  {
   "cell_type": "code",
   "execution_count": 8,
   "metadata": {},
   "outputs": [
    {
     "name": "stdout",
     "output_type": "stream",
     "text": [
      "torch.Size([64, 1, 32, 32]) torch.Size([64])\n"
     ]
    },
    {
     "ename": "NameError",
     "evalue": "name 'show_batch' is not defined",
     "output_type": "error",
     "traceback": [
      "\u001b[0;31m---------------------------------------------------------------------------\u001b[0m",
      "\u001b[0;31mNameError\u001b[0m                                 Traceback (most recent call last)",
      "\u001b[0;32m<ipython-input-8-2ff921d4f204>\u001b[0m in \u001b[0;36m<module>\u001b[0;34m\u001b[0m\n\u001b[1;32m      1\u001b[0m \u001b[0mbatch_samples\u001b[0m\u001b[0;34m,\u001b[0m\u001b[0mlabels\u001b[0m \u001b[0;34m=\u001b[0m \u001b[0mnext\u001b[0m\u001b[0;34m(\u001b[0m\u001b[0miter\u001b[0m\u001b[0;34m(\u001b[0m\u001b[0mtrain_dataloader\u001b[0m\u001b[0;34m)\u001b[0m\u001b[0;34m)\u001b[0m\u001b[0;34m\u001b[0m\u001b[0;34m\u001b[0m\u001b[0m\n\u001b[1;32m      2\u001b[0m \u001b[0mprint\u001b[0m\u001b[0;34m(\u001b[0m\u001b[0mbatch_samples\u001b[0m\u001b[0;34m.\u001b[0m\u001b[0msize\u001b[0m\u001b[0;34m(\u001b[0m\u001b[0;34m)\u001b[0m\u001b[0;34m,\u001b[0m\u001b[0mlabels\u001b[0m\u001b[0;34m.\u001b[0m\u001b[0msize\u001b[0m\u001b[0;34m(\u001b[0m\u001b[0;34m)\u001b[0m\u001b[0;34m)\u001b[0m\u001b[0;34m\u001b[0m\u001b[0;34m\u001b[0m\u001b[0m\n\u001b[0;32m----> 3\u001b[0;31m \u001b[0mshow_batch\u001b[0m\u001b[0;34m(\u001b[0m\u001b[0mbatch_samples\u001b[0m\u001b[0;34m.\u001b[0m\u001b[0msqueeze\u001b[0m\u001b[0;34m(\u001b[0m\u001b[0;34m)\u001b[0m\u001b[0;34m,\u001b[0m \u001b[0mlabels\u001b[0m\u001b[0;34m.\u001b[0m\u001b[0mnumpy\u001b[0m\u001b[0;34m(\u001b[0m\u001b[0;34m)\u001b[0m\u001b[0;34m,\u001b[0m \u001b[0;34m(\u001b[0m\u001b[0;36m4\u001b[0m\u001b[0;34m,\u001b[0m\u001b[0;36m4\u001b[0m\u001b[0;34m)\u001b[0m\u001b[0;34m)\u001b[0m\u001b[0;34m\u001b[0m\u001b[0;34m\u001b[0m\u001b[0m\n\u001b[0m",
      "\u001b[0;31mNameError\u001b[0m: name 'show_batch' is not defined"
     ]
    }
   ],
   "source": [
    "batch_samples,labels = next(iter(train_dataloader))\n",
    "print(batch_samples.size(),labels.size())\n",
    "show_batch(batch_samples.squeeze(), labels.numpy(), (4,4))"
   ]
  },
  {
   "cell_type": "code",
   "execution_count": null,
   "metadata": {},
   "outputs": [],
   "source": [
    "batch_samples,labels = next(iter(valid_dataloader))\n",
    "print(batch_samples.shape,labels.shape)\n",
    "show_batch(batch_samples.squeeze(), labels.numpy(), (4,4))"
   ]
  },
  {
   "cell_type": "code",
   "execution_count": null,
   "metadata": {},
   "outputs": [],
   "source": [
    "batch_samples,labels = next(iter(test_dataloader))\n",
    "print(batch_samples.shape,labels.shape)\n",
    "show_batch(batch_samples.squeeze(), labels.numpy(), (4,4))"
   ]
  },
  {
   "cell_type": "markdown",
   "metadata": {},
   "source": [
    "## Model"
   ]
  },
  {
   "cell_type": "markdown",
   "metadata": {},
   "source": [
    "![](images/nin/nin-arch.png)"
   ]
  },
  {
   "cell_type": "code",
   "execution_count": 15,
   "metadata": {},
   "outputs": [],
   "source": [
    "class NiNZrc(torch.nn.Module):\n",
    "    def __init__(self, num_classes, grayscale = False):\n",
    "        super(NiNZrc, self).__init__()\n",
    "        \n",
    "        if grayscale:\n",
    "            in_channels = 1\n",
    "        else:\n",
    "            in_channels = 3\n",
    "            \n",
    "        self.classifier = torch.nn.Sequential(\n",
    "            torch.nn.Conv2d(in_channels, 192, kernel_size=5, stride=1, padding=2),\n",
    "            torch.nn.ReLU(inplace=True),\n",
    "            torch.nn.Conv2d(192, 160, kernel_size=1, stride=1, padding=0),\n",
    "            torch.nn.ReLU(inplace=True),\n",
    "            torch.nn.Conv2d(160,  96, kernel_size=1, stride=1, padding=0),\n",
    "            torch.nn.ReLU(inplace=True),\n",
    "            torch.nn.MaxPool2d(kernel_size=3, stride=2, padding=1),\n",
    "            torch.nn.Dropout(0.5),\n",
    "\n",
    "            torch.nn.Conv2d(96, 192, kernel_size=5, stride=1, padding=2),\n",
    "            torch.nn.ReLU(inplace=True),\n",
    "            torch.nn.Conv2d(192, 192, kernel_size=1, stride=1, padding=0),\n",
    "            torch.nn.ReLU(inplace=True),\n",
    "            torch.nn.Conv2d(192, 192, kernel_size=1, stride=1, padding=0),\n",
    "            torch.nn.ReLU(inplace=True),\n",
    "            torch.nn.AvgPool2d(kernel_size=3, stride=2, padding=1),\n",
    "            torch.nn.Dropout(0.5),\n",
    "\n",
    "            torch.nn.Conv2d(192, 192, kernel_size=3, stride=1, padding=1),\n",
    "            torch.nn.ReLU(inplace=True),\n",
    "            torch.nn.Conv2d(192, 192, kernel_size=1, stride=1, padding=0),\n",
    "            torch.nn.ReLU(inplace=True),\n",
    "            torch.nn.Conv2d(192,  num_classes, kernel_size=1, stride=1, padding=0),\n",
    "            torch.nn.ReLU(inplace=True),\n",
    "            torch.nn.AvgPool2d(kernel_size=3, stride=2, padding=1),\n",
    "        )\n",
    "        \n",
    "        for layer in self.modules():\n",
    "            if isinstance(layer, torch.nn.Conv2d):\n",
    "                n = layer.kernel_size[0] * layer.kernel_size[1] * layer.out_channels\n",
    "                layer.weight.data.normal_(0, (2. / n)**.5)\n",
    "            elif isinstance(layer, torch.nn.BatchNorm2d):\n",
    "                layer.weight.data.fill_(1)\n",
    "                layer.bias.data.zero_()\n",
    "            \n",
    "        \n",
    "        self.global_avg_pooling = torch.nn.AdaptiveAvgPool2d(1)\n",
    "        \n",
    "    def forward(self, x):\n",
    "        x = self.classifier(x)\n",
    "        logits = torch.squeeze(self.global_avg_pooling(x))\n",
    "        probas = torch.softmax(logits, dim=1)\n",
    "        return logits, probas"
   ]
  },
  {
   "cell_type": "code",
   "execution_count": 16,
   "metadata": {},
   "outputs": [
    {
     "name": "stdout",
     "output_type": "stream",
     "text": [
      "----------------------------------------------------------------\n",
      "        Layer (type)               Output Shape         Param #\n",
      "================================================================\n",
      "            Conv2d-1          [-1, 192, 32, 32]          14,592\n",
      "              ReLU-2          [-1, 192, 32, 32]               0\n",
      "            Conv2d-3          [-1, 160, 32, 32]          30,880\n",
      "              ReLU-4          [-1, 160, 32, 32]               0\n",
      "            Conv2d-5           [-1, 96, 32, 32]          15,456\n",
      "              ReLU-6           [-1, 96, 32, 32]               0\n",
      "         MaxPool2d-7           [-1, 96, 16, 16]               0\n",
      "           Dropout-8           [-1, 96, 16, 16]               0\n",
      "            Conv2d-9          [-1, 192, 16, 16]         460,992\n",
      "             ReLU-10          [-1, 192, 16, 16]               0\n",
      "           Conv2d-11          [-1, 192, 16, 16]          37,056\n",
      "             ReLU-12          [-1, 192, 16, 16]               0\n",
      "           Conv2d-13          [-1, 192, 16, 16]          37,056\n",
      "             ReLU-14          [-1, 192, 16, 16]               0\n",
      "        AvgPool2d-15            [-1, 192, 8, 8]               0\n",
      "          Dropout-16            [-1, 192, 8, 8]               0\n",
      "           Conv2d-17            [-1, 192, 8, 8]         331,968\n",
      "             ReLU-18            [-1, 192, 8, 8]               0\n",
      "           Conv2d-19            [-1, 192, 8, 8]          37,056\n",
      "             ReLU-20            [-1, 192, 8, 8]               0\n",
      "           Conv2d-21             [-1, 10, 8, 8]           1,930\n",
      "             ReLU-22             [-1, 10, 8, 8]               0\n",
      "        AvgPool2d-23             [-1, 10, 4, 4]               0\n",
      "AdaptiveAvgPool2d-24             [-1, 10, 1, 1]               0\n",
      "================================================================\n",
      "Total params: 966,986\n",
      "Trainable params: 966,986\n",
      "Non-trainable params: 0\n",
      "----------------------------------------------------------------\n",
      "Input size (MB): 0.01\n",
      "Forward/backward pass size (MB): 10.20\n",
      "Params size (MB): 3.69\n",
      "Estimated Total Size (MB): 13.90\n",
      "----------------------------------------------------------------\n"
     ]
    }
   ],
   "source": [
    "def test_nin():\n",
    "    model = NiNZrc(10).to(DEVICE)\n",
    "    summary(model, (3,32,32))\n",
    "    \n",
    "test_nin()"
   ]
  },
  {
   "cell_type": "code",
   "execution_count": 17,
   "metadata": {},
   "outputs": [],
   "source": [
    "model = NiNZrc(num_classes=NUM_CLASSES, grayscale=GRAYSCALE)\n",
    "model.to(DEVICE)\n",
    "optimizer = torch.optim.Adam(model.parameters(), lr = LEARNING_RATE)"
   ]
  },
  {
   "cell_type": "code",
   "execution_count": 18,
   "metadata": {},
   "outputs": [],
   "source": [
    "def compute_accuracy(model, data_loader, device):\n",
    "    model.eval()\n",
    "    correct_pred, num_examples = 0, 0\n",
    "    for i, (features, targets) in enumerate(data_loader):\n",
    "            \n",
    "        features = features.to(device)\n",
    "        targets = targets.to(device)\n",
    "\n",
    "        logits, probas = model(features)\n",
    "        _, predicted_labels = torch.max(probas, 1)\n",
    "        num_examples += targets.size(0)\n",
    "        correct_pred += (predicted_labels == targets).sum()\n",
    "    return correct_pred.float()/num_examples * 100"
   ]
  },
  {
   "cell_type": "code",
   "execution_count": 19,
   "metadata": {},
   "outputs": [],
   "source": [
    "def train_model(model, data_loader, optimizer, num_epochs,batch_size, device,metric_func, random_seed = 7):\n",
    "    # Manual seed for deterministic data loader\n",
    "    torch.manual_seed(random_seed)\n",
    "    \n",
    "    loss_list = []\n",
    "    train_acc_list, valid_acc_list = [], []\n",
    "    \n",
    "    for epoch in range(num_epochs):\n",
    "        # set training mode\n",
    "        model.train() \n",
    "        for batch_idx, (features, targets) in enumerate(data_loader[\"train\"]):\n",
    "            features = features.to(device)\n",
    "            targets = targets.to(device)\n",
    "\n",
    "\n",
    "            ## forward pass\n",
    "            logits, probas = model(features)\n",
    "            loss = F.cross_entropy(logits,targets)\n",
    "\n",
    "            # backward pass\n",
    "            # clear the gradients of all tensors being optimized\n",
    "            optimizer.zero_grad()\n",
    "            loss.backward()\n",
    "            optimizer.step()\n",
    "\n",
    "            ### Login\n",
    "            loss_list.append(loss.item())\n",
    "            if not batch_idx % 50:\n",
    "                print ('Epoch: {0:03d}/{1:03d} | Batch {2:03d}/{3:03d} | Loss: {4:.2f}'.format(\n",
    "                    epoch+1, num_epochs, batch_idx, \n",
    "                         len(train_dataset)//batch_size, loss))\n",
    "\n",
    "        with torch.set_grad_enabled(False):\n",
    "            train_acc = metric_func(model, data_loader[\"train\"], device)\n",
    "            valid_acc = metric_func(model, data_loader[\"val\"], device)\n",
    "            \n",
    "            print('Epoch: {0:03d}/{1:03d} training accuracy: {2:.2f}'.format(\n",
    "                  epoch+1, num_epochs, train_acc))\n",
    "            \n",
    "            print('Epoch: {0:03d}/{1:03d} validation accuracy: {2:.2f}'.format(\n",
    "                  epoch+1, num_epochs, valid_acc))\n",
    "            \n",
    "            train_acc_list.append(train_acc)\n",
    "            valid_acc_list.append(valid_acc)\n",
    "            \n",
    "    return loss_list, train_acc_list, valid_acc_list"
   ]
  },
  {
   "cell_type": "code",
   "execution_count": 20,
   "metadata": {},
   "outputs": [
    {
     "name": "stdout",
     "output_type": "stream",
     "text": [
      "Epoch: 001/010 | Batch 000/921 | Loss: 2.30\n",
      "Epoch: 001/010 | Batch 050/921 | Loss: 2.30\n",
      "Epoch: 001/010 | Batch 100/921 | Loss: 2.30\n",
      "Epoch: 001/010 | Batch 150/921 | Loss: 2.30\n",
      "Epoch: 001/010 | Batch 200/921 | Loss: 2.24\n",
      "Epoch: 001/010 | Batch 250/921 | Loss: 2.14\n",
      "Epoch: 001/010 | Batch 300/921 | Loss: 1.92\n",
      "Epoch: 001/010 | Batch 350/921 | Loss: 1.29\n",
      "Epoch: 001/010 | Batch 400/921 | Loss: 1.50\n",
      "Epoch: 001/010 | Batch 450/921 | Loss: 1.19\n",
      "Epoch: 001/010 | Batch 500/921 | Loss: 1.25\n",
      "Epoch: 001/010 | Batch 550/921 | Loss: 1.17\n",
      "Epoch: 001/010 | Batch 600/921 | Loss: 0.90\n",
      "Epoch: 001/010 | Batch 650/921 | Loss: 0.82\n",
      "Epoch: 001/010 | Batch 700/921 | Loss: 0.90\n",
      "Epoch: 001/010 | Batch 750/921 | Loss: 1.16\n",
      "Epoch: 001/010 | Batch 800/921 | Loss: 0.56\n",
      "Epoch: 001/010 | Batch 850/921 | Loss: 0.72\n",
      "Epoch: 001/010 | Batch 900/921 | Loss: 0.69\n",
      "Epoch: 001/010 training accuracy: 76.46\n",
      "Epoch: 001/010 validation accuracy: 78.70\n",
      "Epoch: 002/010 | Batch 000/921 | Loss: 0.74\n",
      "Epoch: 002/010 | Batch 050/921 | Loss: 0.92\n",
      "Epoch: 002/010 | Batch 100/921 | Loss: 0.86\n",
      "Epoch: 002/010 | Batch 150/921 | Loss: 0.56\n",
      "Epoch: 002/010 | Batch 200/921 | Loss: 0.48\n",
      "Epoch: 002/010 | Batch 250/921 | Loss: 0.47\n",
      "Epoch: 002/010 | Batch 300/921 | Loss: 0.50\n",
      "Epoch: 002/010 | Batch 350/921 | Loss: 0.74\n",
      "Epoch: 002/010 | Batch 400/921 | Loss: 0.66\n",
      "Epoch: 002/010 | Batch 450/921 | Loss: 0.58\n",
      "Epoch: 002/010 | Batch 500/921 | Loss: 0.53\n",
      "Epoch: 002/010 | Batch 550/921 | Loss: 0.32\n",
      "Epoch: 002/010 | Batch 600/921 | Loss: 0.31\n",
      "Epoch: 002/010 | Batch 650/921 | Loss: 0.38\n",
      "Epoch: 002/010 | Batch 700/921 | Loss: 0.40\n",
      "Epoch: 002/010 | Batch 750/921 | Loss: 0.39\n",
      "Epoch: 002/010 | Batch 800/921 | Loss: 0.41\n",
      "Epoch: 002/010 | Batch 850/921 | Loss: 0.46\n",
      "Epoch: 002/010 | Batch 900/921 | Loss: 0.49\n",
      "Epoch: 002/010 training accuracy: 86.04\n",
      "Epoch: 002/010 validation accuracy: 87.50\n",
      "Epoch: 003/010 | Batch 000/921 | Loss: 0.34\n",
      "Epoch: 003/010 | Batch 050/921 | Loss: 0.40\n",
      "Epoch: 003/010 | Batch 100/921 | Loss: 0.27\n",
      "Epoch: 003/010 | Batch 150/921 | Loss: 0.25\n",
      "Epoch: 003/010 | Batch 200/921 | Loss: 0.42\n",
      "Epoch: 003/010 | Batch 250/921 | Loss: 0.23\n",
      "Epoch: 003/010 | Batch 300/921 | Loss: 0.32\n",
      "Epoch: 003/010 | Batch 350/921 | Loss: 0.22\n",
      "Epoch: 003/010 | Batch 400/921 | Loss: 0.36\n",
      "Epoch: 003/010 | Batch 450/921 | Loss: 0.27\n",
      "Epoch: 003/010 | Batch 500/921 | Loss: 0.44\n",
      "Epoch: 003/010 | Batch 550/921 | Loss: 0.48\n",
      "Epoch: 003/010 | Batch 600/921 | Loss: 0.19\n",
      "Epoch: 003/010 | Batch 650/921 | Loss: 0.29\n",
      "Epoch: 003/010 | Batch 700/921 | Loss: 0.33\n",
      "Epoch: 003/010 | Batch 750/921 | Loss: 0.40\n",
      "Epoch: 003/010 | Batch 800/921 | Loss: 0.33\n",
      "Epoch: 003/010 | Batch 850/921 | Loss: 0.36\n",
      "Epoch: 003/010 | Batch 900/921 | Loss: 0.23\n",
      "Epoch: 003/010 training accuracy: 86.02\n",
      "Epoch: 003/010 validation accuracy: 86.90\n",
      "Epoch: 004/010 | Batch 000/921 | Loss: 0.45\n",
      "Epoch: 004/010 | Batch 050/921 | Loss: 0.38\n",
      "Epoch: 004/010 | Batch 100/921 | Loss: 0.28\n",
      "Epoch: 004/010 | Batch 150/921 | Loss: 0.43\n",
      "Epoch: 004/010 | Batch 200/921 | Loss: 0.31\n",
      "Epoch: 004/010 | Batch 250/921 | Loss: 0.28\n",
      "Epoch: 004/010 | Batch 300/921 | Loss: 0.43\n",
      "Epoch: 004/010 | Batch 350/921 | Loss: 0.44\n",
      "Epoch: 004/010 | Batch 400/921 | Loss: 0.41\n",
      "Epoch: 004/010 | Batch 450/921 | Loss: 0.29\n",
      "Epoch: 004/010 | Batch 500/921 | Loss: 0.35\n",
      "Epoch: 004/010 | Batch 550/921 | Loss: 0.38\n",
      "Epoch: 004/010 | Batch 600/921 | Loss: 0.33\n",
      "Epoch: 004/010 | Batch 650/921 | Loss: 0.34\n",
      "Epoch: 004/010 | Batch 700/921 | Loss: 0.38\n",
      "Epoch: 004/010 | Batch 750/921 | Loss: 0.42\n",
      "Epoch: 004/010 | Batch 800/921 | Loss: 0.27\n",
      "Epoch: 004/010 | Batch 850/921 | Loss: 0.21\n",
      "Epoch: 004/010 | Batch 900/921 | Loss: 0.43\n",
      "Epoch: 004/010 training accuracy: 87.13\n",
      "Epoch: 004/010 validation accuracy: 88.50\n",
      "Epoch: 005/010 | Batch 000/921 | Loss: 0.24\n",
      "Epoch: 005/010 | Batch 050/921 | Loss: 0.16\n",
      "Epoch: 005/010 | Batch 100/921 | Loss: 0.30\n",
      "Epoch: 005/010 | Batch 150/921 | Loss: 0.50\n",
      "Epoch: 005/010 | Batch 200/921 | Loss: 0.33\n",
      "Epoch: 005/010 | Batch 250/921 | Loss: 0.25\n",
      "Epoch: 005/010 | Batch 300/921 | Loss: 0.41\n",
      "Epoch: 005/010 | Batch 350/921 | Loss: 0.45\n",
      "Epoch: 005/010 | Batch 400/921 | Loss: 0.37\n",
      "Epoch: 005/010 | Batch 450/921 | Loss: 0.16\n",
      "Epoch: 005/010 | Batch 500/921 | Loss: 0.29\n",
      "Epoch: 005/010 | Batch 550/921 | Loss: 0.36\n",
      "Epoch: 005/010 | Batch 600/921 | Loss: 0.32\n",
      "Epoch: 005/010 | Batch 650/921 | Loss: 0.25\n",
      "Epoch: 005/010 | Batch 700/921 | Loss: 0.48\n",
      "Epoch: 005/010 | Batch 750/921 | Loss: 0.30\n",
      "Epoch: 005/010 | Batch 800/921 | Loss: 0.42\n",
      "Epoch: 005/010 | Batch 850/921 | Loss: 0.35\n",
      "Epoch: 005/010 | Batch 900/921 | Loss: 0.31\n",
      "Epoch: 005/010 training accuracy: 87.16\n",
      "Epoch: 005/010 validation accuracy: 88.00\n",
      "Epoch: 006/010 | Batch 000/921 | Loss: 0.38\n",
      "Epoch: 006/010 | Batch 050/921 | Loss: 0.55\n",
      "Epoch: 006/010 | Batch 100/921 | Loss: 0.37\n",
      "Epoch: 006/010 | Batch 150/921 | Loss: 0.33\n",
      "Epoch: 006/010 | Batch 200/921 | Loss: 0.25\n",
      "Epoch: 006/010 | Batch 250/921 | Loss: 0.17\n",
      "Epoch: 006/010 | Batch 300/921 | Loss: 0.36\n",
      "Epoch: 006/010 | Batch 350/921 | Loss: 0.46\n",
      "Epoch: 006/010 | Batch 400/921 | Loss: 0.24\n",
      "Epoch: 006/010 | Batch 450/921 | Loss: 0.46\n",
      "Epoch: 006/010 | Batch 500/921 | Loss: 0.19\n",
      "Epoch: 006/010 | Batch 550/921 | Loss: 0.27\n",
      "Epoch: 006/010 | Batch 600/921 | Loss: 0.27\n",
      "Epoch: 006/010 | Batch 650/921 | Loss: 0.37\n",
      "Epoch: 006/010 | Batch 700/921 | Loss: 0.39\n",
      "Epoch: 006/010 | Batch 750/921 | Loss: 0.62\n",
      "Epoch: 006/010 | Batch 800/921 | Loss: 0.38\n",
      "Epoch: 006/010 | Batch 850/921 | Loss: 0.23\n",
      "Epoch: 006/010 | Batch 900/921 | Loss: 0.25\n",
      "Epoch: 006/010 training accuracy: 87.49\n",
      "Epoch: 006/010 validation accuracy: 88.70\n",
      "Epoch: 007/010 | Batch 000/921 | Loss: 0.59\n",
      "Epoch: 007/010 | Batch 050/921 | Loss: 0.33\n",
      "Epoch: 007/010 | Batch 100/921 | Loss: 0.11\n",
      "Epoch: 007/010 | Batch 150/921 | Loss: 0.49\n",
      "Epoch: 007/010 | Batch 200/921 | Loss: 0.34\n",
      "Epoch: 007/010 | Batch 250/921 | Loss: 0.39\n",
      "Epoch: 007/010 | Batch 300/921 | Loss: 0.25\n",
      "Epoch: 007/010 | Batch 350/921 | Loss: 0.41\n",
      "Epoch: 007/010 | Batch 400/921 | Loss: 0.24\n",
      "Epoch: 007/010 | Batch 450/921 | Loss: 0.24\n",
      "Epoch: 007/010 | Batch 500/921 | Loss: 0.32\n",
      "Epoch: 007/010 | Batch 550/921 | Loss: 0.25\n",
      "Epoch: 007/010 | Batch 600/921 | Loss: 0.19\n",
      "Epoch: 007/010 | Batch 650/921 | Loss: 0.30\n",
      "Epoch: 007/010 | Batch 700/921 | Loss: 0.49\n",
      "Epoch: 007/010 | Batch 750/921 | Loss: 0.30\n",
      "Epoch: 007/010 | Batch 800/921 | Loss: 0.36\n",
      "Epoch: 007/010 | Batch 850/921 | Loss: 0.50\n",
      "Epoch: 007/010 | Batch 900/921 | Loss: 0.28\n",
      "Epoch: 007/010 training accuracy: 87.74\n",
      "Epoch: 007/010 validation accuracy: 88.90\n",
      "Epoch: 008/010 | Batch 000/921 | Loss: 0.37\n",
      "Epoch: 008/010 | Batch 050/921 | Loss: 0.39\n",
      "Epoch: 008/010 | Batch 100/921 | Loss: 0.41\n",
      "Epoch: 008/010 | Batch 150/921 | Loss: 0.41\n",
      "Epoch: 008/010 | Batch 200/921 | Loss: 0.33\n",
      "Epoch: 008/010 | Batch 250/921 | Loss: 0.34\n",
      "Epoch: 008/010 | Batch 300/921 | Loss: 0.25\n",
      "Epoch: 008/010 | Batch 350/921 | Loss: 0.27\n",
      "Epoch: 008/010 | Batch 400/921 | Loss: 0.34\n",
      "Epoch: 008/010 | Batch 450/921 | Loss: 0.47\n",
      "Epoch: 008/010 | Batch 500/921 | Loss: 0.28\n",
      "Epoch: 008/010 | Batch 550/921 | Loss: 0.38\n",
      "Epoch: 008/010 | Batch 600/921 | Loss: 0.29\n",
      "Epoch: 008/010 | Batch 650/921 | Loss: 0.41\n",
      "Epoch: 008/010 | Batch 700/921 | Loss: 0.26\n",
      "Epoch: 008/010 | Batch 750/921 | Loss: 0.32\n",
      "Epoch: 008/010 | Batch 800/921 | Loss: 0.23\n",
      "Epoch: 008/010 | Batch 850/921 | Loss: 0.47\n",
      "Epoch: 008/010 | Batch 900/921 | Loss: 0.35\n",
      "Epoch: 008/010 training accuracy: 87.80\n",
      "Epoch: 008/010 validation accuracy: 89.20\n",
      "Epoch: 009/010 | Batch 000/921 | Loss: 0.26\n",
      "Epoch: 009/010 | Batch 050/921 | Loss: 0.41\n",
      "Epoch: 009/010 | Batch 100/921 | Loss: 0.20\n",
      "Epoch: 009/010 | Batch 150/921 | Loss: 0.37\n",
      "Epoch: 009/010 | Batch 200/921 | Loss: 0.42\n",
      "Epoch: 009/010 | Batch 250/921 | Loss: 0.65\n",
      "Epoch: 009/010 | Batch 300/921 | Loss: 0.40\n",
      "Epoch: 009/010 | Batch 350/921 | Loss: 0.26\n",
      "Epoch: 009/010 | Batch 400/921 | Loss: 0.26\n",
      "Epoch: 009/010 | Batch 450/921 | Loss: 0.23\n",
      "Epoch: 009/010 | Batch 500/921 | Loss: 0.26\n",
      "Epoch: 009/010 | Batch 550/921 | Loss: 0.20\n",
      "Epoch: 009/010 | Batch 600/921 | Loss: 0.48\n",
      "Epoch: 009/010 | Batch 650/921 | Loss: 0.38\n",
      "Epoch: 009/010 | Batch 700/921 | Loss: 0.40\n",
      "Epoch: 009/010 | Batch 750/921 | Loss: 0.54\n",
      "Epoch: 009/010 | Batch 800/921 | Loss: 0.42\n",
      "Epoch: 009/010 | Batch 850/921 | Loss: 0.23\n",
      "Epoch: 009/010 | Batch 900/921 | Loss: 0.36\n",
      "Epoch: 009/010 training accuracy: 88.00\n",
      "Epoch: 009/010 validation accuracy: 88.90\n"
     ]
    },
    {
     "name": "stdout",
     "output_type": "stream",
     "text": [
      "Epoch: 010/010 | Batch 000/921 | Loss: 0.44\n",
      "Epoch: 010/010 | Batch 050/921 | Loss: 0.35\n",
      "Epoch: 010/010 | Batch 100/921 | Loss: 0.41\n",
      "Epoch: 010/010 | Batch 150/921 | Loss: 0.28\n",
      "Epoch: 010/010 | Batch 200/921 | Loss: 0.23\n",
      "Epoch: 010/010 | Batch 250/921 | Loss: 0.30\n",
      "Epoch: 010/010 | Batch 300/921 | Loss: 0.37\n",
      "Epoch: 010/010 | Batch 350/921 | Loss: 0.38\n",
      "Epoch: 010/010 | Batch 400/921 | Loss: 0.37\n",
      "Epoch: 010/010 | Batch 450/921 | Loss: 0.31\n",
      "Epoch: 010/010 | Batch 500/921 | Loss: 0.42\n",
      "Epoch: 010/010 | Batch 550/921 | Loss: 0.16\n",
      "Epoch: 010/010 | Batch 600/921 | Loss: 0.33\n",
      "Epoch: 010/010 | Batch 650/921 | Loss: 0.36\n",
      "Epoch: 010/010 | Batch 700/921 | Loss: 0.10\n",
      "Epoch: 010/010 | Batch 750/921 | Loss: 0.26\n",
      "Epoch: 010/010 | Batch 800/921 | Loss: 0.37\n",
      "Epoch: 010/010 | Batch 850/921 | Loss: 0.22\n",
      "Epoch: 010/010 | Batch 900/921 | Loss: 0.30\n",
      "Epoch: 010/010 training accuracy: 88.07\n",
      "Epoch: 010/010 validation accuracy: 89.20\n"
     ]
    }
   ],
   "source": [
    "loss_list, train_acc_list, valid_acc_list = train_model(model, \n",
    "            data_loader, \n",
    "            optimizer, \n",
    "            NUM_EPOCHS, \n",
    "            device = DEVICE, \n",
    "            batch_size = BATCH_SIZE,\n",
    "            metric_func = compute_accuracy)"
   ]
  },
  {
   "cell_type": "code",
   "execution_count": 21,
   "metadata": {},
   "outputs": [],
   "source": [
    "import matplotlib.pyplot as plt\n",
    "%matplotlib inline"
   ]
  },
  {
   "cell_type": "code",
   "execution_count": 22,
   "metadata": {},
   "outputs": [
    {
     "data": {
      "image/png": "[encoded data removed]",
      "text/plain": [
       "<Figure size 432x288 with 1 Axes>"
      ]
     },
     "metadata": {
      "needs_background": "light"
     },
     "output_type": "display_data"
    }
   ],
   "source": [
    "plt.plot(loss_list, label='Minibatch cost')\n",
    "plt.plot(np.convolve(loss_list, \n",
    "                     np.ones(200,)/200, mode='valid'), \n",
    "         label='Running average')\n",
    "\n",
    "plt.ylabel('Cross Entropy')\n",
    "plt.xlabel('Iteration')\n",
    "plt.legend()\n",
    "plt.show()"
   ]
  },
  {
   "cell_type": "code",
   "execution_count": 23,
   "metadata": {},
   "outputs": [
    {
     "data": {
      "image/png": "[encoded data removed]",
      "text/plain": [
       "<Figure size 432x288 with 1 Axes>"
      ]
     },
     "metadata": {
      "needs_background": "light"
     },
     "output_type": "display_data"
    }
   ],
   "source": [
    "plt.plot(np.arange(1, NUM_EPOCHS+1), train_acc_list, label='Training')\n",
    "plt.plot(np.arange(1, NUM_EPOCHS+1), valid_acc_list, label='Validation')\n",
    "\n",
    "plt.xlabel('Epoch')\n",
    "plt.ylabel('Accuracy')\n",
    "plt.legend()\n",
    "plt.show()"
   ]
  },
  {
   "cell_type": "code",
   "execution_count": 24,
   "metadata": {},
   "outputs": [
    {
     "name": "stdout",
     "output_type": "stream",
     "text": [
      "Validation ACC: 89.20%\n",
      "Test ACC: 87.94%\n"
     ]
    }
   ],
   "source": [
    "with torch.set_grad_enabled(False):\n",
    "    test_acc = compute_accuracy(model=model,\n",
    "                           data_loader=data_loader[\"test\"],\n",
    "                           device=DEVICE)\n",
    "    \n",
    "    valid_acc = compute_accuracy(model=model,\n",
    "                            data_loader=data_loader[\"val\"],\n",
    "                            device=DEVICE)\n",
    "    \n",
    "\n",
    "print(f'Validation ACC: {valid_acc:.2f}%')\n",
    "print(f'Test ACC: {test_acc:.2f}%')"
   ]
  },
  {
   "cell_type": "markdown",
   "metadata": {},
   "source": [
    "## Reference\n",
    "\n",
    "- https://towardsdatascience.com/understanding-and-visualizing-densenets-7f688092391a\n",
    "- https://github.com/rasbt/deeplearning-models"
   ]
  },
  {
   "cell_type": "code",
   "execution_count": null,
   "metadata": {},
   "outputs": [],
   "source": []
  }
 ],
 "metadata": {
  "kernelspec": {
   "display_name": "Python 3.6 - AzureML",
   "language": "python",
   "name": "python3-azureml"
  },
  "language_info": {
   "codemirror_mode": {
    "name": "ipython",
    "version": 3
   },
   "file_extension": ".py",
   "mimetype": "text/x-python",
   "name": "python",
   "nbconvert_exporter": "python",
   "pygments_lexer": "ipython3",
   "version": "3.6.9"
  }
 },
 "nbformat": 4,
 "nbformat_minor": 4
}
