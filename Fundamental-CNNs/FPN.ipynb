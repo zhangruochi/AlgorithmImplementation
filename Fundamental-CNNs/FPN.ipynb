{
 "cells": [
  {
   "cell_type": "markdown",
   "metadata": {},
   "source": [
    "## FPN Architecture "
   ]
  },
  {
   "cell_type": "code",
   "execution_count": null,
   "metadata": {},
   "outputs": [],
   "source": []
  },
  {
   "cell_type": "markdown",
   "metadata": {},
   "source": [
    "![](images/fpn/fpn-arc.png)"
   ]
  },
  {
   "cell_type": "code",
   "execution_count": 1,
   "metadata": {},
   "outputs": [
    {
     "data": {
      "text/plain": [
       "['/Users/ZRC/miniconda3/envs/tryit/lib/python36.zip',\n",
       " '/Users/ZRC/miniconda3/envs/tryit/lib/python3.6',\n",
       " '/Users/ZRC/miniconda3/envs/tryit/lib/python3.6/lib-dynload',\n",
       " '',\n",
       " '/Users/ZRC/miniconda3/envs/tryit/lib/python3.6/site-packages',\n",
       " '/Users/ZRC/miniconda3/envs/tryit/lib/python3.6/site-packages/IPython/extensions',\n",
       " '/Users/ZRC/.ipython',\n",
       " '/Users/ZRC']"
      ]
     },
     "execution_count": 1,
     "metadata": {},
     "output_type": "execute_result"
    }
   ],
   "source": [
    "import sys\n",
    "sys.path.append(\"/Users/ZRC\")\n",
    "sys.path"
   ]
  },
  {
   "cell_type": "code",
   "execution_count": 2,
   "metadata": {},
   "outputs": [],
   "source": [
    "%load_ext autoreload\n",
    "%autoreload 2"
   ]
  },
  {
   "cell_type": "code",
   "execution_count": 3,
   "metadata": {},
   "outputs": [],
   "source": [
    "from collections import OrderedDict\n",
    "\n",
    "import matplotlib.pyplot as plt\n",
    "import numpy as np\n",
    "\n",
    "import torch\n",
    "import torch.nn.functional as F\n",
    "\n",
    "from torch.utils.data import DataLoader\n",
    "from torch.utils.data import RandomSampler\n",
    "from torch.utils.data import Subset\n",
    "\n",
    "\n",
    "from torchvision import datasets\n",
    "from torchvision import transforms\n",
    "\n",
    "from torchsummary import summary"
   ]
  },
  {
   "cell_type": "code",
   "execution_count": 4,
   "metadata": {},
   "outputs": [],
   "source": [
    "from coke.visualization.image import show_batch"
   ]
  },
  {
   "cell_type": "markdown",
   "metadata": {},
   "source": [
    "## Model Setting"
   ]
  },
  {
   "cell_type": "code",
   "execution_count": 5,
   "metadata": {},
   "outputs": [],
   "source": [
    "# Hyperparameters\n",
    "\n",
    "BATCH_SIZE = 64\n",
    "NUM_EPOCHS = 10\n",
    "LEARNING_RATE = 0.0001\n",
    "RANDOM_SEED = 7\n",
    "\n",
    "# Architecture\n",
    "NUM_CLASSES = 10\n",
    "GRAYSCALE = True\n",
    "\n",
    "# other\n",
    "# torch.cuda.empty_cache()\n",
    "DEVICE = torch.device(\"cuda: 0\" if torch.cuda.is_available() else \"cpu\")"
   ]
  },
  {
   "cell_type": "code",
   "execution_count": 6,
   "metadata": {},
   "outputs": [],
   "source": [
    "data_transforms = {\"train\": transforms.Compose([\n",
    "                            transforms.Resize((32,32)),\n",
    "                            transforms.ToTensor()]),\n",
    "                    \"test\": transforms.Compose([\n",
    "                            transforms.Resize((32,32)),\n",
    "                            transforms.ToTensor()])\n",
    "                   }"
   ]
  },
  {
   "cell_type": "code",
   "execution_count": 7,
   "metadata": {},
   "outputs": [],
   "source": [
    "train_indices = torch.arange(0, 59000)\n",
    "valid_indices = torch.arange(59000, 60000)\n",
    "\n",
    "\n",
    "\n",
    "train_and_valida_dataset = datasets.MNIST(root = \"data\",\n",
    "                                train = True,\n",
    "                                transform = data_transforms[\"train\"],\n",
    "                                download=True)\n",
    "\n",
    "test_dataset = datasets.MNIST(root = \"data\",\n",
    "                                train = False,\n",
    "                                transform = data_transforms[\"test\"],\n",
    "                                download=False)\n",
    "\n",
    "train_dataset = Subset(train_and_valida_dataset, train_indices)\n",
    "valid_dataset = Subset(train_and_valida_dataset, valid_indices)\n",
    "\n",
    "\n",
    "\n",
    "\n",
    "train_dataloader = DataLoader(dataset = train_dataset,\n",
    "                             batch_size=BATCH_SIZE,\n",
    "                             shuffle=True,\n",
    "                             num_workers=4)\n",
    "\n",
    "valid_dataloader = DataLoader(dataset = valid_dataset,\n",
    "                             batch_size=BATCH_SIZE,\n",
    "                             shuffle=False,\n",
    "                             num_workers=4)\n",
    "\n",
    "test_dataloader = DataLoader(dataset = test_dataset,\n",
    "                             batch_size=BATCH_SIZE,\n",
    "                             shuffle=False,\n",
    "                             num_workers=4)\n",
    "\n",
    "data_loader = {\"train\": train_dataloader, \n",
    "               \"val\": valid_dataloader,\n",
    "               \"test\": test_dataloader}"
   ]
  },
  {
   "cell_type": "code",
   "execution_count": 8,
   "metadata": {},
   "outputs": [
    {
     "name": "stdout",
     "output_type": "stream",
     "text": [
      "torch.Size([64, 1, 32, 32]) torch.Size([64])\n"
     ]
    },
    {
     "data": {
      "image/png": "[encoded data removed]",
      "text/plain": [
       "<Figure size 864x576 with 16 Axes>"
      ]
     },
     "metadata": {
      "needs_background": "light"
     },
     "output_type": "display_data"
    }
   ],
   "source": [
    "batch_samples,labels = next(iter(train_dataloader))\n",
    "print(batch_samples.size(),labels.size())\n",
    "show_batch(batch_samples.squeeze(), labels.numpy(), (4,4))"
   ]
  },
  {
   "cell_type": "code",
   "execution_count": 9,
   "metadata": {},
   "outputs": [
    {
     "name": "stdout",
     "output_type": "stream",
     "text": [
      "torch.Size([64, 1, 32, 32]) torch.Size([64])\n"
     ]
    },
    {
     "data": {
      "image/png": "[encoded data removed]",
      "text/plain": [
       "<Figure size 864x576 with 16 Axes>"
      ]
     },
     "metadata": {
      "needs_background": "light"
     },
     "output_type": "display_data"
    }
   ],
   "source": [
    "batch_samples,labels = next(iter(valid_dataloader))\n",
    "print(batch_samples.shape,labels.shape)\n",
    "show_batch(batch_samples.squeeze(), labels.numpy(), (4,4))"
   ]
  },
  {
   "cell_type": "code",
   "execution_count": 10,
   "metadata": {},
   "outputs": [
    {
     "name": "stdout",
     "output_type": "stream",
     "text": [
      "torch.Size([64, 1, 32, 32]) torch.Size([64])\n"
     ]
    },
    {
     "data": {
      "image/png": "[encoded data removed]",
      "text/plain": [
       "<Figure size 864x576 with 16 Axes>"
      ]
     },
     "metadata": {
      "needs_background": "light"
     },
     "output_type": "display_data"
    }
   ],
   "source": [
    "batch_samples,labels = next(iter(test_dataloader))\n",
    "print(batch_samples.shape,labels.shape)\n",
    "show_batch(batch_samples.squeeze(), labels.numpy(), (4,4))"
   ]
  },
  {
   "cell_type": "markdown",
   "metadata": {},
   "source": [
    "## Model"
   ]
  },
  {
   "cell_type": "code",
   "execution_count": 9,
   "metadata": {},
   "outputs": [],
   "source": [
    "def conv3x3(inplanes, outplanes, stride = 1):\n",
    "    return torch.nn.Conv2d(inplanes, \n",
    "                           outplanes, \n",
    "                           stride=stride,\n",
    "                           kernel_size=3, \n",
    "                           padding = 1,\n",
    "                           bias=False)"
   ]
  },
  {
   "cell_type": "code",
   "execution_count": 31,
   "metadata": {},
   "outputs": [],
   "source": [
    "class Bottleneck(torch.nn.Module):\n",
    "    expansion = 4\n",
    "    def __init__(self, inplanes, outplanes, stride=1):\n",
    "        super(Bottleneck, self).__init__()        \n",
    "        self.seq = torch.nn.Sequential(\n",
    "            # [1x1]\n",
    "            torch.nn.Conv2d(inplanes, \n",
    "                            outplanes, \n",
    "                            kernel_size=1, \n",
    "                            bias=False),\n",
    "            torch.nn.BatchNorm2d(outplanes),\n",
    "            torch.nn.ReLU(inplace = True),\n",
    "            \n",
    "            # [3x3]\n",
    "            torch.nn.Conv2d(outplanes, \n",
    "                            outplanes, \n",
    "                            kernel_size=3, \n",
    "                            stride=stride,\n",
    "                            padding=1, \n",
    "                            bias=False),\n",
    "            torch.nn.BatchNorm2d(outplanes),\n",
    "            torch.nn.ReLU(inplace = True),\n",
    "            \n",
    "            # [1x1]\n",
    "            torch.nn.Conv2d(outplanes, \n",
    "                                   outplanes * self.expansion, \n",
    "                                   kernel_size=1, \n",
    "                                   bias=False),\n",
    "            torch.nn.BatchNorm2d(outplanes * self.expansion))\n",
    "        \n",
    "        \n",
    "        self.shortcut = torch.nn.Sequential()\n",
    "        if stride != 1 or inplanes != self.expansion * outplanes: \n",
    "            self.shortcut.add_module(\"shortcut_conv\", torch.nn.Conv2d(inplanes,outplanes * self.expansion, \n",
    "                                                                      kernel_size=1, \n",
    "                                                                      stride = stride,\n",
    "                                                                      bias = False))\n",
    "            self.shortcut.add_module(\"shortcut_bn\", torch.nn.BatchNorm2d(outplanes * self.expansion))\n",
    "            \n",
    "        \n",
    "    def forward(self, x):\n",
    "        out = self.seq(x)\n",
    "        residule = self.shortcut(x)\n",
    "        out += self.shortcut(x)\n",
    "        return F.relu(out)"
   ]
  },
  {
   "cell_type": "code",
   "execution_count": 32,
   "metadata": {},
   "outputs": [
    {
     "name": "stdout",
     "output_type": "stream",
     "text": [
      "----------------------------------------------------------------\n",
      "        Layer (type)               Output Shape         Param #\n",
      "================================================================\n",
      "            Conv2d-1           [-1, 64, 28, 28]          16,384\n",
      "       BatchNorm2d-2           [-1, 64, 28, 28]             128\n",
      "              ReLU-3           [-1, 64, 28, 28]               0\n",
      "            Conv2d-4           [-1, 64, 28, 28]          36,864\n",
      "       BatchNorm2d-5           [-1, 64, 28, 28]             128\n",
      "              ReLU-6           [-1, 64, 28, 28]               0\n",
      "            Conv2d-7          [-1, 256, 28, 28]          16,384\n",
      "       BatchNorm2d-8          [-1, 256, 28, 28]             512\n",
      "================================================================\n",
      "Total params: 70,400\n",
      "Trainable params: 70,400\n",
      "Non-trainable params: 0\n",
      "----------------------------------------------------------------\n",
      "Input size (MB): 0.77\n",
      "Forward/backward pass size (MB): 5.36\n",
      "Params size (MB): 0.27\n",
      "Estimated Total Size (MB): 6.39\n",
      "----------------------------------------------------------------\n"
     ]
    }
   ],
   "source": [
    "def test_Bottleneck():\n",
    "    model = Bottleneck(256,64).to(DEVICE)\n",
    "    summary(model, (256,28,28))\n",
    "test_Bottleneck()"
   ]
  },
  {
   "cell_type": "code",
   "execution_count": 39,
   "metadata": {},
   "outputs": [],
   "source": [
    "class FPNZrc(torch.nn.Module):\n",
    "\n",
    "    def __init__(self, block, layers = [2,2,2,2], grasacale = False, num_classes=1000):\n",
    "        super(FPNZrc, self).__init__()\n",
    "        \n",
    "        self.inplanes = 64\n",
    "        \n",
    "        if grasacale:\n",
    "            init_channels = 1\n",
    "        else:\n",
    "            init_channels = 3\n",
    "        \n",
    "        \n",
    "        self.pre = torch.nn.Sequential(\n",
    "            OrderedDict([\n",
    "                (\"conv0\", torch.nn.Conv2d(init_channels, \n",
    "                                          self.inplanes, \n",
    "                                          kernel_size=7, \n",
    "                                          stride=2, \n",
    "                                          padding=3,\n",
    "                                          bias=False)),\n",
    "                (\"bn0\", torch.nn.BatchNorm2d(self.inplanes)),\n",
    "                (\"relu0\", torch.nn.ReLU(inplace=True)),\n",
    "                (\"pool0\", torch.nn.MaxPool2d(kernel_size = 3, stride=2, padding=1))\n",
    "            ]))\n",
    "        \n",
    "    \n",
    "        # Bottom-up layers\n",
    "        \n",
    "        self.bp_layer1 = self._make_layers(block, 64,  layers[0])\n",
    "        self.bp_layer2 = self._make_layers(block, 128, layers[1], stride=2)\n",
    "        self.bp_layer3 = self._make_layers(block, 256, layers[2], stride=2)\n",
    "        self.bp_layer4 = self._make_layers(block, 512, layers[3], stride=2)\n",
    "        \n",
    "        \n",
    "         # Top layer\n",
    "        self.top = torch.nn.Conv2d(2048, 256, kernel_size=1, stride=1, padding=0)  # Reduce channels\n",
    "        \n",
    "        \n",
    "        \n",
    "         # Lateral layers\n",
    "        self.latlayer1 = torch.nn.Conv2d( 1024, 256, kernel_size=1, stride=1, padding=0)\n",
    "        self.latlayer2 = torch.nn.Conv2d( 512, 256, kernel_size=1, stride=1, padding=0)\n",
    "        self.latlayer3 = torch.nn.Conv2d( 256, 256, kernel_size=1, stride=1, padding=0)\n",
    "        \n",
    "        # Smooth layers\n",
    "        self.smooth1 = torch.nn.Conv2d(256, 256, kernel_size=3, stride=1, padding=1)\n",
    "        self.smooth2 = torch.nn.Conv2d(256, 256, kernel_size=3, stride=1, padding=1)\n",
    "        self.smooth3 = torch.nn.Conv2d(256, 256, kernel_size=3, stride=1, padding=1)\n",
    "\n",
    "        \n",
    "        \n",
    "        for name, layer in self.named_modules():\n",
    "            if isinstance(layer, torch.nn.Conv2d):\n",
    "                n = layer.kernel_size[0] * layer.kernel_size[1] * layer.out_channels\n",
    "                layer.weight.data.normal_(0, (2. / n)**.5)\n",
    "            elif isinstance(layer, torch.nn.BatchNorm2d):\n",
    "                layer.weight.data.fill_(1)\n",
    "                layer.bias.data.zero_()\n",
    "            \n",
    "    \n",
    "    def _make_layers(self, block, planes, multiplier, stride = 1):\n",
    "        \n",
    "        strides = [stride] + [1]*(multiplier-1)\n",
    "        layers = []\n",
    "        for stride in strides:\n",
    "            layers.append(block(self.inplanes, planes, stride))\n",
    "            self.inplanes = planes * block.expansion\n",
    "        \n",
    "        return torch.nn.Sequential(*layers)    \n",
    "    \n",
    "    \n",
    "    def _upsample_add(self, x, y):\n",
    "        '''Upsample and add two feature maps.\n",
    "        Args:\n",
    "          x: (Variable) top feature map to be upsampled.\n",
    "          y: (Variable) lateral feature map.\n",
    "        Returns:\n",
    "          (Variable) added feature map.\n",
    "        Note in PyTorch, when input size is odd, the upsampled feature map\n",
    "        with `F.upsample(..., scale_factor=2, mode='nearest')`\n",
    "        maybe not equal to the lateral feature map size.\n",
    "        e.g.\n",
    "        original input size: [N,_,15,15] ->\n",
    "        conv2d feature map size: [N,_,8,8] ->\n",
    "        upsampled feature map size: [N,_,16,16]\n",
    "        So we choose bilinear upsample which supports arbitrary output sizes.\n",
    "        '''\n",
    "        _,_,H,W = y.size()\n",
    "        return F.upsample(x, size=(H,W), mode='bilinear') + y\n",
    "    \n",
    "    def forward(self, x):\n",
    "        c1 = self.pre(x)            # 64\n",
    "        c2 = self.bp_layer1(c1)     # 64 * 4 = 256\n",
    "        c3 = self.bp_layer2(c2)     # 128 * 4 = 512\n",
    "        c4 = self.bp_layer3(c3)     # 256 * 4 = 1024\n",
    "        c5 = self.bp_layer4(c4)     # 512 * 4 = 2048\n",
    "        \n",
    "        p5 = self.top(c5)  # 256 \n",
    "        p4 = self._upsample_add(p5, self.latlayer1(c4))  # 256 + 256\n",
    "        p3 = self._upsample_add(p4, self.latlayer2(c3))  # \n",
    "        p2 = self._upsample_add(p3, self.latlayer3(c2))\n",
    "        \n",
    "        p4 = self.smooth1(p4)\n",
    "        p3 = self.smooth2(p3)\n",
    "        p2 = self.smooth3(p2)\n",
    "        \n",
    "        return p2, p3, p4, p5\n",
    "    "
   ]
  },
  {
   "cell_type": "code",
   "execution_count": 40,
   "metadata": {},
   "outputs": [
    {
     "name": "stdout",
     "output_type": "stream",
     "text": [
      "----------------------------------------------------------------\n",
      "        Layer (type)               Output Shape         Param #\n",
      "================================================================\n",
      "            Conv2d-1           [-1, 64, 14, 14]           9,408\n",
      "       BatchNorm2d-2           [-1, 64, 14, 14]             128\n",
      "              ReLU-3           [-1, 64, 14, 14]               0\n",
      "         MaxPool2d-4             [-1, 64, 7, 7]               0\n",
      "            Conv2d-5             [-1, 64, 7, 7]           4,096\n",
      "       BatchNorm2d-6             [-1, 64, 7, 7]             128\n",
      "              ReLU-7             [-1, 64, 7, 7]               0\n",
      "            Conv2d-8             [-1, 64, 7, 7]          36,864\n",
      "       BatchNorm2d-9             [-1, 64, 7, 7]             128\n",
      "             ReLU-10             [-1, 64, 7, 7]               0\n",
      "           Conv2d-11            [-1, 256, 7, 7]          16,384\n",
      "      BatchNorm2d-12            [-1, 256, 7, 7]             512\n",
      "           Conv2d-13            [-1, 256, 7, 7]          16,384\n",
      "      BatchNorm2d-14            [-1, 256, 7, 7]             512\n",
      "           Conv2d-15            [-1, 256, 7, 7]          16,384\n",
      "      BatchNorm2d-16            [-1, 256, 7, 7]             512\n",
      "       Bottleneck-17            [-1, 256, 7, 7]               0\n",
      "           Conv2d-18             [-1, 64, 7, 7]          16,384\n",
      "      BatchNorm2d-19             [-1, 64, 7, 7]             128\n",
      "             ReLU-20             [-1, 64, 7, 7]               0\n",
      "           Conv2d-21             [-1, 64, 7, 7]          36,864\n",
      "      BatchNorm2d-22             [-1, 64, 7, 7]             128\n",
      "             ReLU-23             [-1, 64, 7, 7]               0\n",
      "           Conv2d-24            [-1, 256, 7, 7]          16,384\n",
      "      BatchNorm2d-25            [-1, 256, 7, 7]             512\n",
      "       Bottleneck-26            [-1, 256, 7, 7]               0\n",
      "           Conv2d-27            [-1, 128, 7, 7]          32,768\n",
      "      BatchNorm2d-28            [-1, 128, 7, 7]             256\n",
      "             ReLU-29            [-1, 128, 7, 7]               0\n",
      "           Conv2d-30            [-1, 128, 4, 4]         147,456\n",
      "      BatchNorm2d-31            [-1, 128, 4, 4]             256\n",
      "             ReLU-32            [-1, 128, 4, 4]               0\n",
      "           Conv2d-33            [-1, 512, 4, 4]          65,536\n",
      "      BatchNorm2d-34            [-1, 512, 4, 4]           1,024\n",
      "           Conv2d-35            [-1, 512, 4, 4]         131,072\n",
      "      BatchNorm2d-36            [-1, 512, 4, 4]           1,024\n",
      "           Conv2d-37            [-1, 512, 4, 4]         131,072\n",
      "      BatchNorm2d-38            [-1, 512, 4, 4]           1,024\n",
      "       Bottleneck-39            [-1, 512, 4, 4]               0\n",
      "           Conv2d-40            [-1, 128, 4, 4]          65,536\n",
      "      BatchNorm2d-41            [-1, 128, 4, 4]             256\n",
      "             ReLU-42            [-1, 128, 4, 4]               0\n",
      "           Conv2d-43            [-1, 128, 4, 4]         147,456\n",
      "      BatchNorm2d-44            [-1, 128, 4, 4]             256\n",
      "             ReLU-45            [-1, 128, 4, 4]               0\n",
      "           Conv2d-46            [-1, 512, 4, 4]          65,536\n",
      "      BatchNorm2d-47            [-1, 512, 4, 4]           1,024\n",
      "       Bottleneck-48            [-1, 512, 4, 4]               0\n",
      "           Conv2d-49            [-1, 256, 4, 4]         131,072\n",
      "      BatchNorm2d-50            [-1, 256, 4, 4]             512\n",
      "             ReLU-51            [-1, 256, 4, 4]               0\n",
      "           Conv2d-52            [-1, 256, 2, 2]         589,824\n",
      "      BatchNorm2d-53            [-1, 256, 2, 2]             512\n",
      "             ReLU-54            [-1, 256, 2, 2]               0\n",
      "           Conv2d-55           [-1, 1024, 2, 2]         262,144\n",
      "      BatchNorm2d-56           [-1, 1024, 2, 2]           2,048\n",
      "           Conv2d-57           [-1, 1024, 2, 2]         524,288\n",
      "      BatchNorm2d-58           [-1, 1024, 2, 2]           2,048\n",
      "           Conv2d-59           [-1, 1024, 2, 2]         524,288\n",
      "      BatchNorm2d-60           [-1, 1024, 2, 2]           2,048\n",
      "       Bottleneck-61           [-1, 1024, 2, 2]               0\n",
      "           Conv2d-62            [-1, 256, 2, 2]         262,144\n",
      "      BatchNorm2d-63            [-1, 256, 2, 2]             512\n",
      "             ReLU-64            [-1, 256, 2, 2]               0\n",
      "           Conv2d-65            [-1, 256, 2, 2]         589,824\n",
      "      BatchNorm2d-66            [-1, 256, 2, 2]             512\n",
      "             ReLU-67            [-1, 256, 2, 2]               0\n",
      "           Conv2d-68           [-1, 1024, 2, 2]         262,144\n",
      "      BatchNorm2d-69           [-1, 1024, 2, 2]           2,048\n",
      "       Bottleneck-70           [-1, 1024, 2, 2]               0\n",
      "           Conv2d-71            [-1, 512, 2, 2]         524,288\n",
      "      BatchNorm2d-72            [-1, 512, 2, 2]           1,024\n",
      "             ReLU-73            [-1, 512, 2, 2]               0\n",
      "           Conv2d-74            [-1, 512, 1, 1]       2,359,296\n",
      "      BatchNorm2d-75            [-1, 512, 1, 1]           1,024\n",
      "             ReLU-76            [-1, 512, 1, 1]               0\n",
      "           Conv2d-77           [-1, 2048, 1, 1]       1,048,576\n",
      "      BatchNorm2d-78           [-1, 2048, 1, 1]           4,096\n",
      "           Conv2d-79           [-1, 2048, 1, 1]       2,097,152\n",
      "      BatchNorm2d-80           [-1, 2048, 1, 1]           4,096\n",
      "           Conv2d-81           [-1, 2048, 1, 1]       2,097,152\n",
      "      BatchNorm2d-82           [-1, 2048, 1, 1]           4,096\n",
      "       Bottleneck-83           [-1, 2048, 1, 1]               0\n",
      "           Conv2d-84            [-1, 512, 1, 1]       1,048,576\n",
      "      BatchNorm2d-85            [-1, 512, 1, 1]           1,024\n",
      "             ReLU-86            [-1, 512, 1, 1]               0\n",
      "           Conv2d-87            [-1, 512, 1, 1]       2,359,296\n",
      "      BatchNorm2d-88            [-1, 512, 1, 1]           1,024\n",
      "             ReLU-89            [-1, 512, 1, 1]               0\n",
      "           Conv2d-90           [-1, 2048, 1, 1]       1,048,576\n",
      "      BatchNorm2d-91           [-1, 2048, 1, 1]           4,096\n",
      "       Bottleneck-92           [-1, 2048, 1, 1]               0\n",
      "           Conv2d-93            [-1, 256, 1, 1]         524,544\n",
      "           Conv2d-94            [-1, 256, 2, 2]         262,400\n",
      "           Conv2d-95            [-1, 256, 4, 4]         131,328\n",
      "           Conv2d-96            [-1, 256, 7, 7]          65,792\n",
      "           Conv2d-97            [-1, 256, 2, 2]         590,080\n",
      "           Conv2d-98            [-1, 256, 4, 4]         590,080\n",
      "           Conv2d-99            [-1, 256, 7, 7]         590,080\n",
      "================================================================\n",
      "Total params: 19,477,056\n",
      "Trainable params: 19,477,056\n",
      "Non-trainable params: 0\n",
      "----------------------------------------------------------------\n",
      "Input size (MB): 0.01\n",
      "Forward/backward pass size (MB): 3.45\n",
      "Params size (MB): 74.30\n",
      "Estimated Total Size (MB): 77.76\n",
      "----------------------------------------------------------------\n"
     ]
    }
   ],
   "source": [
    "def test_FPNZrc():\n",
    "    model = FPNZrc(Bottleneck, [2,2,2,2], num_classes = NUM_CLASSES).to(DEVICE)\n",
    "    summary(model, (3,28,28))\n",
    "test_FPNZrc()"
   ]
  },
  {
   "cell_type": "code",
   "execution_count": 42,
   "metadata": {},
   "outputs": [],
   "source": [
    "model = FPNZrc(Bottleneck, [2,2,2,2], num_classes = NUM_CLASSES).to(DEVICE)\n",
    "model.to(DEVICE)\n",
    "\n",
    "#### DATA PARALLEL START ####\n",
    "if torch.cuda.device_count() > 1:\n",
    "    print(\"Using\", torch.cuda.device_count(), \"GPUs\")\n",
    "    model = torch.nn.DataParallel(model)\n",
    "#### DATA PARALLEL END ####\n",
    "\n",
    "optimizer = torch.optim.Adam(model.parameters(), lr=LEARNING_RATE)"
   ]
  },
  {
   "cell_type": "code",
   "execution_count": 19,
   "metadata": {},
   "outputs": [],
   "source": [
    "def compute_accuracy(model, data_loader, device):\n",
    "    model.eval()\n",
    "    correct_pred, num_examples = 0, 0\n",
    "    for i, (features, targets) in enumerate(data_loader):\n",
    "            \n",
    "        features = features.to(device)\n",
    "        targets = targets.to(device)\n",
    "\n",
    "        logits, probas = model(features)\n",
    "        _, predicted_labels = torch.max(probas, 1)\n",
    "        num_examples += targets.size(0)\n",
    "        correct_pred += (predicted_labels == targets).sum()\n",
    "    return correct_pred.float()/num_examples * 100"
   ]
  },
  {
   "cell_type": "code",
   "execution_count": 20,
   "metadata": {},
   "outputs": [],
   "source": [
    "def train_model(model, data_loader, optimizer, num_epochs,batch_size, device, metric_func, random_seed = 7):\n",
    "    # Manual seed for deterministic data loader\n",
    "    torch.manual_seed(random_seed)\n",
    "    \n",
    "    loss_list = []\n",
    "    train_acc_list, valid_acc_list = [], []\n",
    "    \n",
    "    for epoch in range(num_epochs):\n",
    "        # set training mode\n",
    "        model.train() \n",
    "        for batch_idx, (features, targets) in enumerate(data_loader[\"train\"]):\n",
    "            features = features.to(device)\n",
    "            targets = targets.to(device)\n",
    "\n",
    "\n",
    "            ## forward pass\n",
    "            logits, probas = model(features)\n",
    "            loss = F.cross_entropy(logits,targets)\n",
    "\n",
    "            # backward pass\n",
    "            # clear the gradients of all tensors being optimized\n",
    "            optimizer.zero_grad()\n",
    "            loss.backward()\n",
    "            optimizer.step()\n",
    "\n",
    "            ### Login\n",
    "            loss_list.append(loss.item())\n",
    "            if not batch_idx % 50:\n",
    "                print ('Epoch: {0:03d}/{1:03d} | Batch {2:03d}/{3:03d} | Loss: {4:.2f}'.format(\n",
    "                    epoch+1, num_epochs, batch_idx, \n",
    "                         len(train_dataset)//batch_size, loss))\n",
    "\n",
    "        with torch.set_grad_enabled(False):\n",
    "            train_acc = metric_func(model, data_loader[\"train\"], device)\n",
    "            valid_acc = metric_func(model, data_loader[\"val\"], device)\n",
    "            \n",
    "            print('Epoch: {0:03d}/{1:03d} training accuracy: {2:.2f}'.format(\n",
    "                  epoch+1, num_epochs, train_acc))\n",
    "            \n",
    "            print('Epoch: {0:03d}/{1:03d} validation accuracy: {2:.2f}'.format(\n",
    "                  epoch+1, num_epochs, valid_acc))\n",
    "            \n",
    "            train_acc_list.append(train_acc)\n",
    "            valid_acc_list.append(valid_acc)\n",
    "            \n",
    "    return loss_list, train_acc_list, valid_acc_list"
   ]
  },
  {
   "cell_type": "code",
   "execution_count": 21,
   "metadata": {},
   "outputs": [
    {
     "name": "stdout",
     "output_type": "stream",
     "text": [
      "Epoch: 001/010 | Batch 000/921 | Loss: 7.48\n",
      "Epoch: 001/010 | Batch 050/921 | Loss: 0.37\n",
      "Epoch: 001/010 | Batch 100/921 | Loss: 0.09\n",
      "Epoch: 001/010 | Batch 150/921 | Loss: 0.18\n",
      "Epoch: 001/010 | Batch 200/921 | Loss: 0.15\n",
      "Epoch: 001/010 | Batch 250/921 | Loss: 0.05\n",
      "Epoch: 001/010 | Batch 300/921 | Loss: 0.16\n",
      "Epoch: 001/010 | Batch 350/921 | Loss: 0.03\n",
      "Epoch: 001/010 | Batch 400/921 | Loss: 0.08\n",
      "Epoch: 001/010 | Batch 450/921 | Loss: 0.04\n",
      "Epoch: 001/010 | Batch 500/921 | Loss: 0.14\n",
      "Epoch: 001/010 | Batch 550/921 | Loss: 0.05\n",
      "Epoch: 001/010 | Batch 600/921 | Loss: 0.06\n",
      "Epoch: 001/010 | Batch 650/921 | Loss: 0.10\n",
      "Epoch: 001/010 | Batch 700/921 | Loss: 0.14\n",
      "Epoch: 001/010 | Batch 750/921 | Loss: 0.14\n",
      "Epoch: 001/010 | Batch 800/921 | Loss: 0.08\n",
      "Epoch: 001/010 | Batch 850/921 | Loss: 0.11\n",
      "Epoch: 001/010 | Batch 900/921 | Loss: 0.03\n",
      "Epoch: 001/010 training accuracy: 98.72\n",
      "Epoch: 001/010 validation accuracy: 98.80\n",
      "Epoch: 002/010 | Batch 000/921 | Loss: 0.10\n",
      "Epoch: 002/010 | Batch 050/921 | Loss: 0.03\n",
      "Epoch: 002/010 | Batch 100/921 | Loss: 0.04\n",
      "Epoch: 002/010 | Batch 150/921 | Loss: 0.04\n",
      "Epoch: 002/010 | Batch 200/921 | Loss: 0.03\n",
      "Epoch: 002/010 | Batch 250/921 | Loss: 0.03\n",
      "Epoch: 002/010 | Batch 300/921 | Loss: 0.04\n",
      "Epoch: 002/010 | Batch 350/921 | Loss: 0.08\n",
      "Epoch: 002/010 | Batch 400/921 | Loss: 0.10\n",
      "Epoch: 002/010 | Batch 450/921 | Loss: 0.09\n",
      "Epoch: 002/010 | Batch 500/921 | Loss: 0.06\n",
      "Epoch: 002/010 | Batch 550/921 | Loss: 0.07\n",
      "Epoch: 002/010 | Batch 600/921 | Loss: 0.01\n",
      "Epoch: 002/010 | Batch 650/921 | Loss: 0.11\n",
      "Epoch: 002/010 | Batch 700/921 | Loss: 0.02\n",
      "Epoch: 002/010 | Batch 750/921 | Loss: 0.19\n",
      "Epoch: 002/010 | Batch 800/921 | Loss: 0.01\n",
      "Epoch: 002/010 | Batch 850/921 | Loss: 0.02\n",
      "Epoch: 002/010 | Batch 900/921 | Loss: 0.01\n",
      "Epoch: 002/010 training accuracy: 98.88\n",
      "Epoch: 002/010 validation accuracy: 97.90\n",
      "Epoch: 003/010 | Batch 000/921 | Loss: 0.05\n",
      "Epoch: 003/010 | Batch 050/921 | Loss: 0.18\n",
      "Epoch: 003/010 | Batch 100/921 | Loss: 0.01\n",
      "Epoch: 003/010 | Batch 150/921 | Loss: 0.00\n",
      "Epoch: 003/010 | Batch 200/921 | Loss: 0.02\n",
      "Epoch: 003/010 | Batch 250/921 | Loss: 0.02\n",
      "Epoch: 003/010 | Batch 300/921 | Loss: 0.11\n",
      "Epoch: 003/010 | Batch 350/921 | Loss: 0.08\n",
      "Epoch: 003/010 | Batch 400/921 | Loss: 0.05\n",
      "Epoch: 003/010 | Batch 450/921 | Loss: 0.02\n",
      "Epoch: 003/010 | Batch 500/921 | Loss: 0.02\n",
      "Epoch: 003/010 | Batch 550/921 | Loss: 0.01\n",
      "Epoch: 003/010 | Batch 600/921 | Loss: 0.03\n",
      "Epoch: 003/010 | Batch 650/921 | Loss: 0.11\n",
      "Epoch: 003/010 | Batch 700/921 | Loss: 0.00\n",
      "Epoch: 003/010 | Batch 750/921 | Loss: 0.01\n",
      "Epoch: 003/010 | Batch 800/921 | Loss: 0.04\n",
      "Epoch: 003/010 | Batch 850/921 | Loss: 0.03\n",
      "Epoch: 003/010 | Batch 900/921 | Loss: 0.00\n",
      "Epoch: 003/010 training accuracy: 99.54\n",
      "Epoch: 003/010 validation accuracy: 98.40\n",
      "Epoch: 004/010 | Batch 000/921 | Loss: 0.00\n",
      "Epoch: 004/010 | Batch 050/921 | Loss: 0.01\n",
      "Epoch: 004/010 | Batch 100/921 | Loss: 0.15\n",
      "Epoch: 004/010 | Batch 150/921 | Loss: 0.00\n",
      "Epoch: 004/010 | Batch 200/921 | Loss: 0.04\n",
      "Epoch: 004/010 | Batch 250/921 | Loss: 0.01\n",
      "Epoch: 004/010 | Batch 300/921 | Loss: 0.00\n",
      "Epoch: 004/010 | Batch 350/921 | Loss: 0.02\n",
      "Epoch: 004/010 | Batch 400/921 | Loss: 0.05\n",
      "Epoch: 004/010 | Batch 450/921 | Loss: 0.01\n",
      "Epoch: 004/010 | Batch 500/921 | Loss: 0.00\n",
      "Epoch: 004/010 | Batch 550/921 | Loss: 0.00\n",
      "Epoch: 004/010 | Batch 600/921 | Loss: 0.12\n",
      "Epoch: 004/010 | Batch 650/921 | Loss: 0.11\n",
      "Epoch: 004/010 | Batch 700/921 | Loss: 0.00\n",
      "Epoch: 004/010 | Batch 750/921 | Loss: 0.03\n",
      "Epoch: 004/010 | Batch 800/921 | Loss: 0.02\n",
      "Epoch: 004/010 | Batch 850/921 | Loss: 0.02\n",
      "Epoch: 004/010 | Batch 900/921 | Loss: 0.01\n",
      "Epoch: 004/010 training accuracy: 99.40\n",
      "Epoch: 004/010 validation accuracy: 98.80\n",
      "Epoch: 005/010 | Batch 000/921 | Loss: 0.01\n",
      "Epoch: 005/010 | Batch 050/921 | Loss: 0.01\n",
      "Epoch: 005/010 | Batch 100/921 | Loss: 0.00\n",
      "Epoch: 005/010 | Batch 150/921 | Loss: 0.03\n",
      "Epoch: 005/010 | Batch 200/921 | Loss: 0.01\n",
      "Epoch: 005/010 | Batch 250/921 | Loss: 0.02\n",
      "Epoch: 005/010 | Batch 300/921 | Loss: 0.00\n",
      "Epoch: 005/010 | Batch 350/921 | Loss: 0.01\n",
      "Epoch: 005/010 | Batch 400/921 | Loss: 0.03\n",
      "Epoch: 005/010 | Batch 450/921 | Loss: 0.06\n",
      "Epoch: 005/010 | Batch 500/921 | Loss: 0.11\n",
      "Epoch: 005/010 | Batch 550/921 | Loss: 0.04\n",
      "Epoch: 005/010 | Batch 600/921 | Loss: 0.02\n",
      "Epoch: 005/010 | Batch 650/921 | Loss: 0.03\n",
      "Epoch: 005/010 | Batch 700/921 | Loss: 0.09\n",
      "Epoch: 005/010 | Batch 750/921 | Loss: 0.01\n",
      "Epoch: 005/010 | Batch 800/921 | Loss: 0.00\n",
      "Epoch: 005/010 | Batch 850/921 | Loss: 0.01\n",
      "Epoch: 005/010 | Batch 900/921 | Loss: 0.00\n",
      "Epoch: 005/010 training accuracy: 99.37\n",
      "Epoch: 005/010 validation accuracy: 99.10\n",
      "Epoch: 006/010 | Batch 000/921 | Loss: 0.07\n",
      "Epoch: 006/010 | Batch 050/921 | Loss: 0.04\n",
      "Epoch: 006/010 | Batch 100/921 | Loss: 0.01\n",
      "Epoch: 006/010 | Batch 150/921 | Loss: 0.00\n",
      "Epoch: 006/010 | Batch 200/921 | Loss: 0.05\n",
      "Epoch: 006/010 | Batch 250/921 | Loss: 0.00\n",
      "Epoch: 006/010 | Batch 300/921 | Loss: 0.00\n",
      "Epoch: 006/010 | Batch 350/921 | Loss: 0.00\n",
      "Epoch: 006/010 | Batch 400/921 | Loss: 0.00\n",
      "Epoch: 006/010 | Batch 450/921 | Loss: 0.01\n",
      "Epoch: 006/010 | Batch 500/921 | Loss: 0.00\n",
      "Epoch: 006/010 | Batch 550/921 | Loss: 0.03\n",
      "Epoch: 006/010 | Batch 600/921 | Loss: 0.01\n",
      "Epoch: 006/010 | Batch 650/921 | Loss: 0.06\n",
      "Epoch: 006/010 | Batch 700/921 | Loss: 0.00\n",
      "Epoch: 006/010 | Batch 750/921 | Loss: 0.01\n",
      "Epoch: 006/010 | Batch 800/921 | Loss: 0.00\n",
      "Epoch: 006/010 | Batch 850/921 | Loss: 0.00\n",
      "Epoch: 006/010 | Batch 900/921 | Loss: 0.05\n",
      "Epoch: 006/010 training accuracy: 99.64\n",
      "Epoch: 006/010 validation accuracy: 98.50\n",
      "Epoch: 007/010 | Batch 000/921 | Loss: 0.01\n",
      "Epoch: 007/010 | Batch 050/921 | Loss: 0.00\n",
      "Epoch: 007/010 | Batch 100/921 | Loss: 0.08\n",
      "Epoch: 007/010 | Batch 150/921 | Loss: 0.00\n",
      "Epoch: 007/010 | Batch 200/921 | Loss: 0.03\n",
      "Epoch: 007/010 | Batch 250/921 | Loss: 0.00\n",
      "Epoch: 007/010 | Batch 300/921 | Loss: 0.00\n",
      "Epoch: 007/010 | Batch 350/921 | Loss: 0.03\n",
      "Epoch: 007/010 | Batch 400/921 | Loss: 0.05\n",
      "Epoch: 007/010 | Batch 450/921 | Loss: 0.00\n",
      "Epoch: 007/010 | Batch 500/921 | Loss: 0.00\n",
      "Epoch: 007/010 | Batch 550/921 | Loss: 0.03\n",
      "Epoch: 007/010 | Batch 600/921 | Loss: 0.00\n",
      "Epoch: 007/010 | Batch 650/921 | Loss: 0.00\n",
      "Epoch: 007/010 | Batch 700/921 | Loss: 0.00\n",
      "Epoch: 007/010 | Batch 750/921 | Loss: 0.00\n",
      "Epoch: 007/010 | Batch 800/921 | Loss: 0.07\n",
      "Epoch: 007/010 | Batch 850/921 | Loss: 0.00\n",
      "Epoch: 007/010 | Batch 900/921 | Loss: 0.00\n",
      "Epoch: 007/010 training accuracy: 99.65\n",
      "Epoch: 007/010 validation accuracy: 98.80\n",
      "Epoch: 008/010 | Batch 000/921 | Loss: 0.01\n",
      "Epoch: 008/010 | Batch 050/921 | Loss: 0.04\n",
      "Epoch: 008/010 | Batch 100/921 | Loss: 0.00\n",
      "Epoch: 008/010 | Batch 150/921 | Loss: 0.00\n",
      "Epoch: 008/010 | Batch 200/921 | Loss: 0.04\n",
      "Epoch: 008/010 | Batch 250/921 | Loss: 0.01\n",
      "Epoch: 008/010 | Batch 300/921 | Loss: 0.01\n",
      "Epoch: 008/010 | Batch 350/921 | Loss: 0.08\n",
      "Epoch: 008/010 | Batch 400/921 | Loss: 0.01\n",
      "Epoch: 008/010 | Batch 450/921 | Loss: 0.05\n",
      "Epoch: 008/010 | Batch 500/921 | Loss: 0.06\n",
      "Epoch: 008/010 | Batch 550/921 | Loss: 0.02\n",
      "Epoch: 008/010 | Batch 600/921 | Loss: 0.02\n",
      "Epoch: 008/010 | Batch 650/921 | Loss: 0.01\n",
      "Epoch: 008/010 | Batch 700/921 | Loss: 0.03\n",
      "Epoch: 008/010 | Batch 750/921 | Loss: 0.01\n",
      "Epoch: 008/010 | Batch 800/921 | Loss: 0.00\n",
      "Epoch: 008/010 | Batch 850/921 | Loss: 0.10\n",
      "Epoch: 008/010 | Batch 900/921 | Loss: 0.06\n",
      "Epoch: 008/010 training accuracy: 99.76\n",
      "Epoch: 008/010 validation accuracy: 99.40\n",
      "Epoch: 009/010 | Batch 000/921 | Loss: 0.02\n",
      "Epoch: 009/010 | Batch 050/921 | Loss: 0.01\n",
      "Epoch: 009/010 | Batch 100/921 | Loss: 0.00\n",
      "Epoch: 009/010 | Batch 150/921 | Loss: 0.03\n",
      "Epoch: 009/010 | Batch 200/921 | Loss: 0.00\n",
      "Epoch: 009/010 | Batch 250/921 | Loss: 0.05\n",
      "Epoch: 009/010 | Batch 300/921 | Loss: 0.24\n",
      "Epoch: 009/010 | Batch 350/921 | Loss: 0.01\n",
      "Epoch: 009/010 | Batch 400/921 | Loss: 0.03\n",
      "Epoch: 009/010 | Batch 450/921 | Loss: 0.00\n",
      "Epoch: 009/010 | Batch 500/921 | Loss: 0.05\n",
      "Epoch: 009/010 | Batch 550/921 | Loss: 0.01\n",
      "Epoch: 009/010 | Batch 600/921 | Loss: 0.00\n",
      "Epoch: 009/010 | Batch 650/921 | Loss: 0.00\n",
      "Epoch: 009/010 | Batch 700/921 | Loss: 0.00\n",
      "Epoch: 009/010 | Batch 750/921 | Loss: 0.07\n",
      "Epoch: 009/010 | Batch 800/921 | Loss: 0.04\n",
      "Epoch: 009/010 | Batch 850/921 | Loss: 0.04\n",
      "Epoch: 009/010 | Batch 900/921 | Loss: 0.00\n",
      "Epoch: 009/010 training accuracy: 99.70\n",
      "Epoch: 009/010 validation accuracy: 98.20\n"
     ]
    },
    {
     "name": "stdout",
     "output_type": "stream",
     "text": [
      "Epoch: 010/010 | Batch 000/921 | Loss: 0.01\n",
      "Epoch: 010/010 | Batch 050/921 | Loss: 0.01\n",
      "Epoch: 010/010 | Batch 100/921 | Loss: 0.00\n",
      "Epoch: 010/010 | Batch 150/921 | Loss: 0.05\n",
      "Epoch: 010/010 | Batch 200/921 | Loss: 0.00\n",
      "Epoch: 010/010 | Batch 250/921 | Loss: 0.00\n",
      "Epoch: 010/010 | Batch 300/921 | Loss: 0.00\n",
      "Epoch: 010/010 | Batch 350/921 | Loss: 0.00\n",
      "Epoch: 010/010 | Batch 400/921 | Loss: 0.00\n",
      "Epoch: 010/010 | Batch 450/921 | Loss: 0.01\n",
      "Epoch: 010/010 | Batch 500/921 | Loss: 0.04\n",
      "Epoch: 010/010 | Batch 550/921 | Loss: 0.01\n",
      "Epoch: 010/010 | Batch 600/921 | Loss: 0.02\n",
      "Epoch: 010/010 | Batch 650/921 | Loss: 0.00\n",
      "Epoch: 010/010 | Batch 700/921 | Loss: 0.00\n",
      "Epoch: 010/010 | Batch 750/921 | Loss: 0.00\n",
      "Epoch: 010/010 | Batch 800/921 | Loss: 0.01\n",
      "Epoch: 010/010 | Batch 850/921 | Loss: 0.01\n",
      "Epoch: 010/010 | Batch 900/921 | Loss: 0.02\n",
      "Epoch: 010/010 training accuracy: 99.67\n",
      "Epoch: 010/010 validation accuracy: 99.10\n"
     ]
    }
   ],
   "source": [
    "loss_list, train_acc_list, valid_acc_list = train_model(\n",
    "                    model, \n",
    "                    data_loader, \n",
    "                    optimizer, \n",
    "                    NUM_EPOCHS, \n",
    "                    device = DEVICE, \n",
    "                    batch_size = BATCH_SIZE,\n",
    "                    metric_func = compute_accuracy)"
   ]
  },
  {
   "cell_type": "code",
   "execution_count": 22,
   "metadata": {},
   "outputs": [],
   "source": [
    "import matplotlib.pyplot as plt\n",
    "%matplotlib inline"
   ]
  },
  {
   "cell_type": "code",
   "execution_count": 23,
   "metadata": {},
   "outputs": [
    {
     "data": {
      "image/png": "[encoded data removed]",
      "text/plain": [
       "<Figure size 432x288 with 1 Axes>"
      ]
     },
     "metadata": {
      "needs_background": "light"
     },
     "output_type": "display_data"
    }
   ],
   "source": [
    "plt.plot(loss_list, label='Minibatch cost')\n",
    "plt.plot(np.convolve(loss_list, \n",
    "                     np.ones(200,)/200, mode='valid'), \n",
    "         label='Running average')\n",
    "\n",
    "plt.ylabel('Cross Entropy')\n",
    "plt.xlabel('Iteration')\n",
    "plt.legend()\n",
    "plt.show()"
   ]
  },
  {
   "cell_type": "code",
   "execution_count": 24,
   "metadata": {},
   "outputs": [
    {
     "data": {
      "image/png": "[encoded data removed]",
      "text/plain": [
       "<Figure size 432x288 with 1 Axes>"
      ]
     },
     "metadata": {
      "needs_background": "light"
     },
     "output_type": "display_data"
    }
   ],
   "source": [
    "plt.plot(np.arange(1, NUM_EPOCHS+1), train_acc_list, label='Training')\n",
    "plt.plot(np.arange(1, NUM_EPOCHS+1), valid_acc_list, label='Validation')\n",
    "\n",
    "plt.xlabel('Epoch')\n",
    "plt.ylabel('Accuracy')\n",
    "plt.legend()\n",
    "plt.show()"
   ]
  },
  {
   "cell_type": "code",
   "execution_count": 25,
   "metadata": {},
   "outputs": [
    {
     "name": "stdout",
     "output_type": "stream",
     "text": [
      "Validation ACC: 99.10%\n",
      "Test ACC: 98.94%\n"
     ]
    }
   ],
   "source": [
    "with torch.set_grad_enabled(False):\n",
    "    test_acc = compute_accuracy(model=model,\n",
    "                           data_loader=data_loader[\"test\"],\n",
    "                           device=DEVICE)\n",
    "    \n",
    "    valid_acc = compute_accuracy(model=model,\n",
    "                            data_loader=data_loader[\"val\"],\n",
    "                            device=DEVICE)\n",
    "    \n",
    "\n",
    "print(f'Validation ACC: {valid_acc:.2f}%')\n",
    "print(f'Test ACC: {test_acc:.2f}%')"
   ]
  },
  {
   "cell_type": "code",
   "execution_count": null,
   "metadata": {},
   "outputs": [],
   "source": []
  }
 ],
 "metadata": {
  "kernelspec": {
   "display_name": "tryit",
   "language": "python",
   "name": "tryit"
  },
  "language_info": {
   "codemirror_mode": {
    "name": "ipython",
    "version": 3
   },
   "file_extension": ".py",
   "mimetype": "text/x-python",
   "name": "python",
   "nbconvert_exporter": "python",
   "pygments_lexer": "ipython3",
   "version": "3.6.9"
  }
 },
 "nbformat": 4,
 "nbformat_minor": 4
}
