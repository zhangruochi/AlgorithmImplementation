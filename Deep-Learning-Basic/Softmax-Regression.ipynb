{
 "cells": [
  {
   "cell_type": "code",
   "execution_count": 1,
   "metadata": {},
   "outputs": [
    {
     "data": {
      "text/plain": [
       "['/Users/ZRC/miniconda3/envs/tryit/lib/python36.zip',\n",
       " '/Users/ZRC/miniconda3/envs/tryit/lib/python3.6',\n",
       " '/Users/ZRC/miniconda3/envs/tryit/lib/python3.6/lib-dynload',\n",
       " '',\n",
       " '/Users/ZRC/miniconda3/envs/tryit/lib/python3.6/site-packages',\n",
       " '/Users/ZRC/miniconda3/envs/tryit/lib/python3.6/site-packages/IPython/extensions',\n",
       " '/Users/ZRC/.ipython',\n",
       " '/Users/ZRC']"
      ]
     },
     "execution_count": 1,
     "metadata": {},
     "output_type": "execute_result"
    }
   ],
   "source": [
    "import sys\n",
    "sys.path.append(\"/Users/ZRC\")\n",
    "sys.path"
   ]
  },
  {
   "cell_type": "code",
   "execution_count": 3,
   "metadata": {},
   "outputs": [],
   "source": [
    "%load_ext autoreload\n",
    "%autoreload 2"
   ]
  },
  {
   "cell_type": "code",
   "execution_count": 4,
   "metadata": {},
   "outputs": [],
   "source": [
    "%matplotlib inline\n",
    "\n",
    "import matplotlib.pyplot as plt\n",
    "import numpy as np"
   ]
  },
  {
   "cell_type": "code",
   "execution_count": 14,
   "metadata": {},
   "outputs": [],
   "source": [
    "import torch\n",
    "import torch.nn.functional as F\n",
    "\n",
    "from torch.utils.data import DataLoader\n",
    "from torch.utils.data import RandomSampler\n",
    "\n",
    "\n",
    "from torchvision import datasets\n",
    "from torchvision import transforms"
   ]
  },
  {
   "cell_type": "code",
   "execution_count": 82,
   "metadata": {},
   "outputs": [],
   "source": [
    "import coke.visualization.image as visu_img"
   ]
  },
  {
   "cell_type": "code",
   "execution_count": 7,
   "metadata": {},
   "outputs": [],
   "source": [
    "device = torch.device(\"cuda: 0\" if torch.cuda.is_available() else \"cpu\")"
   ]
  },
  {
   "cell_type": "markdown",
   "metadata": {},
   "source": [
    "## Setting"
   ]
  },
  {
   "cell_type": "code",
   "execution_count": 127,
   "metadata": {},
   "outputs": [],
   "source": [
    "batch_size = 64\n",
    "num_features = 28 * 28\n",
    "num_classes = 10\n",
    "learning_rate = 0.03\n",
    "random_seed = 7\n",
    "num_epochs = 10"
   ]
  },
  {
   "cell_type": "code",
   "execution_count": 159,
   "metadata": {},
   "outputs": [],
   "source": [
    "data_transforms = {\n",
    "    'train': transforms.Compose([\n",
    "#         transforms.RandomHorizontalFlip(),\n",
    "        transforms.ToTensor(),\n",
    "    ]),\n",
    "    'val': transforms.Compose([\n",
    "        transforms.ToTensor(),\n",
    "    ]),\n",
    "}"
   ]
  },
  {
   "cell_type": "markdown",
   "metadata": {},
   "source": [
    "## Dataset Preparation"
   ]
  },
  {
   "cell_type": "code",
   "execution_count": 160,
   "metadata": {},
   "outputs": [],
   "source": [
    "train_dataset = datasets.MNIST(root = \"data\", \n",
    "                               train = True, \n",
    "                               transform= data_transforms[\"train\"], \n",
    "                               download= True )\n",
    "\n",
    "val_dataset = datasets.MNIST(root = \"data\", \n",
    "                               train = False, \n",
    "                               transform= data_transforms[\"val\"], \n",
    "                               ) "
   ]
  },
  {
   "cell_type": "code",
   "execution_count": 161,
   "metadata": {},
   "outputs": [],
   "source": [
    "train_loader = DataLoader(dataset = train_dataset, \n",
    "                          batch_size=batch_size, \n",
    "                          shuffle= True)\n",
    "\n",
    "val_loader = DataLoader(dataset = val_dataset,\n",
    "                         batch_size=batch_size,\n",
    "                         shuffle= False)\n",
    "\n",
    "data_loader = {\"train\": train_loader, \"val\": val_loader}"
   ]
  },
  {
   "cell_type": "code",
   "execution_count": 162,
   "metadata": {},
   "outputs": [],
   "source": [
    "inputs, classes = next(iter(data_loader[\"train\"]))"
   ]
  },
  {
   "cell_type": "code",
   "execution_count": 163,
   "metadata": {
    "scrolled": true
   },
   "outputs": [
    {
     "data": {
      "image/png": "[encoded data removed]",
      "text/plain": [
       "<Figure size 864x576 with 16 Axes>"
      ]
     },
     "metadata": {
      "needs_background": "light"
     },
     "output_type": "display_data"
    }
   ],
   "source": [
    "visu_img.show_batch(inputs.squeeze().numpy(),classes.numpy(),(4,4))"
   ]
  },
  {
   "cell_type": "markdown",
   "metadata": {},
   "source": [
    "## Low-level implementation using autograd"
   ]
  },
  {
   "cell_type": "code",
   "execution_count": 164,
   "metadata": {},
   "outputs": [],
   "source": [
    "class SoftmaxRegressionZrc(torch.nn.Module):\n",
    "    def __init__(self, num_features, num_classes):\n",
    "        super(SoftmaxRegressionZrc, self).__init__()\n",
    "        self.liner = torch.nn.Linear(num_features, num_classes)\n",
    "    \n",
    "    def forward(self, x):\n",
    "        logits = self.liner(x)\n",
    "        probas = F.softmax(logits, dim = 1)\n",
    "        return logits, probas\n",
    "    \n",
    "model = SoftmaxRegressionZrc(num_features= num_features, \n",
    "                              num_classes = num_classes)\n",
    "\n",
    "optimizer = torch.optim.Adam(model.parameters(), lr = learning_rate)"
   ]
  },
  {
   "cell_type": "markdown",
   "metadata": {},
   "source": [
    "## Training"
   ]
  },
  {
   "cell_type": "code",
   "execution_count": 2,
   "metadata": {},
   "outputs": [],
   "source": [
    "def compute_accuracy(model, data_loader, device):\n",
    "    model.eval()\n",
    "    corrected_pred, num_examples = 0,0\n",
    "    for features, targets in data_loader:\n",
    "        features = features.view(-1, 28*28).to(device)\n",
    "        targets = targets.to(device)\n",
    "        logits, probas = model(features)\n",
    "        predicted_labels = torch.argmax(probas, dim=1)\n",
    "        num_examples += targets.size(0)\n",
    "        corrected_pred += torch.sum((predicted_labels == targets))\n",
    "        \n",
    "    return float(corrected_pred) / num_examples"
   ]
  },
  {
   "cell_type": "code",
   "execution_count": 167,
   "metadata": {},
   "outputs": [],
   "source": [
    "def train_model(model, data_loader, optimizer, num_epochs, metric_func):\n",
    "    # Manual seed for deterministic data loader\n",
    "    torch.manual_seed(random_seed)\n",
    "    \n",
    "    \n",
    "    for epoch in range(num_epochs):\n",
    "        # set training mode\n",
    "        model.train() \n",
    "        for batch_idx, (features, targets) in enumerate(data_loader[\"train\"]):\n",
    "            features = features.view(-1, num_features).to(device)\n",
    "            targets = targets.to(device)\n",
    "\n",
    "\n",
    "            ## forward pass\n",
    "            logits, probas = model(features)\n",
    "            loss = F.cross_entropy(logits,targets)\n",
    "\n",
    "            # backward pass\n",
    "            # clear the gradients of all tensors being optimized\n",
    "            optimizer.zero_grad()\n",
    "            loss.backward()\n",
    "            optimizer.step()\n",
    "\n",
    "            ### Login\n",
    "            if not batch_idx % 50:\n",
    "                print ('Epoch: {0:03d}/{1:03d} | Batch {2:03d}/{3:03d} | Cost: {4:.2f}'.format(\n",
    "                    epoch+1, num_epochs, batch_idx, \n",
    "                         len(train_dataset)//batch_size, loss))\n",
    "\n",
    "        with torch.set_grad_enabled(False):\n",
    "            print('Epoch: {0:03d}/{1:03d} training accuracy: {2:.2f}'.format(\n",
    "                  epoch+1, num_epochs, \n",
    "                  metric_func(model, data_loader[\"train\"])))\n",
    "            \n",
    "            print('Epoch: {0:03d}/{1:03d} training accuracy: {2:.2f}'.format(\n",
    "                  epoch+1, num_epochs, \n",
    "                  metric_func(model, data_loader[\"val\"])))"
   ]
  },
  {
   "cell_type": "code",
   "execution_count": 168,
   "metadata": {
    "scrolled": true
   },
   "outputs": [
    {
     "name": "stdout",
     "output_type": "stream",
     "text": [
      "Epoch: 001/010 | Batch 000/937 | Cost: 2.36\n",
      "Epoch: 001/010 | Batch 050/937 | Cost: 0.43\n",
      "Epoch: 001/010 | Batch 100/937 | Cost: 0.48\n",
      "Epoch: 001/010 | Batch 150/937 | Cost: 0.40\n",
      "Epoch: 001/010 | Batch 200/937 | Cost: 0.90\n",
      "Epoch: 001/010 | Batch 250/937 | Cost: 0.21\n",
      "Epoch: 001/010 | Batch 300/937 | Cost: 0.31\n",
      "Epoch: 001/010 | Batch 350/937 | Cost: 0.72\n",
      "Epoch: 001/010 | Batch 400/937 | Cost: 0.95\n",
      "Epoch: 001/010 | Batch 450/937 | Cost: 0.61\n",
      "Epoch: 001/010 | Batch 500/937 | Cost: 0.14\n",
      "Epoch: 001/010 | Batch 550/937 | Cost: 0.22\n",
      "Epoch: 001/010 | Batch 600/937 | Cost: 0.27\n",
      "Epoch: 001/010 | Batch 650/937 | Cost: 0.15\n",
      "Epoch: 001/010 | Batch 700/937 | Cost: 0.34\n",
      "Epoch: 001/010 | Batch 750/937 | Cost: 0.41\n",
      "Epoch: 001/010 | Batch 800/937 | Cost: 0.36\n",
      "Epoch: 001/010 | Batch 850/937 | Cost: 0.05\n",
      "Epoch: 001/010 | Batch 900/937 | Cost: 0.42\n",
      "Epoch: 001/010 training accuracy: 0.90\n",
      "Epoch: 001/010 training accuracy: 0.90\n",
      "Epoch: 002/010 | Batch 000/937 | Cost: 0.28\n",
      "Epoch: 002/010 | Batch 050/937 | Cost: 0.22\n",
      "Epoch: 002/010 | Batch 100/937 | Cost: 0.31\n",
      "Epoch: 002/010 | Batch 150/937 | Cost: 0.17\n",
      "Epoch: 002/010 | Batch 200/937 | Cost: 0.28\n",
      "Epoch: 002/010 | Batch 250/937 | Cost: 0.79\n",
      "Epoch: 002/010 | Batch 300/937 | Cost: 0.19\n",
      "Epoch: 002/010 | Batch 350/937 | Cost: 1.07\n",
      "Epoch: 002/010 | Batch 400/937 | Cost: 0.46\n",
      "Epoch: 002/010 | Batch 450/937 | Cost: 0.88\n",
      "Epoch: 002/010 | Batch 500/937 | Cost: 0.28\n",
      "Epoch: 002/010 | Batch 550/937 | Cost: 0.50\n",
      "Epoch: 002/010 | Batch 600/937 | Cost: 0.29\n",
      "Epoch: 002/010 | Batch 650/937 | Cost: 0.44\n",
      "Epoch: 002/010 | Batch 700/937 | Cost: 0.56\n",
      "Epoch: 002/010 | Batch 750/937 | Cost: 0.35\n",
      "Epoch: 002/010 | Batch 800/937 | Cost: 0.43\n",
      "Epoch: 002/010 | Batch 850/937 | Cost: 0.44\n",
      "Epoch: 002/010 | Batch 900/937 | Cost: 0.31\n",
      "Epoch: 002/010 training accuracy: 0.90\n",
      "Epoch: 002/010 training accuracy: 0.89\n",
      "Epoch: 003/010 | Batch 000/937 | Cost: 0.39\n",
      "Epoch: 003/010 | Batch 050/937 | Cost: 0.73\n",
      "Epoch: 003/010 | Batch 100/937 | Cost: 0.85\n",
      "Epoch: 003/010 | Batch 150/937 | Cost: 0.42\n",
      "Epoch: 003/010 | Batch 200/937 | Cost: 0.48\n",
      "Epoch: 003/010 | Batch 250/937 | Cost: 0.42\n",
      "Epoch: 003/010 | Batch 300/937 | Cost: 0.49\n",
      "Epoch: 003/010 | Batch 350/937 | Cost: 0.41\n",
      "Epoch: 003/010 | Batch 400/937 | Cost: 0.26\n",
      "Epoch: 003/010 | Batch 450/937 | Cost: 0.98\n",
      "Epoch: 003/010 | Batch 500/937 | Cost: 0.75\n",
      "Epoch: 003/010 | Batch 550/937 | Cost: 0.04\n",
      "Epoch: 003/010 | Batch 600/937 | Cost: 0.93\n",
      "Epoch: 003/010 | Batch 650/937 | Cost: 0.66\n",
      "Epoch: 003/010 | Batch 700/937 | Cost: 0.26\n",
      "Epoch: 003/010 | Batch 750/937 | Cost: 0.46\n",
      "Epoch: 003/010 | Batch 800/937 | Cost: 0.33\n",
      "Epoch: 003/010 | Batch 850/937 | Cost: 0.46\n",
      "Epoch: 003/010 | Batch 900/937 | Cost: 0.68\n",
      "Epoch: 003/010 training accuracy: 0.91\n",
      "Epoch: 003/010 training accuracy: 0.90\n",
      "Epoch: 004/010 | Batch 000/937 | Cost: 0.39\n",
      "Epoch: 004/010 | Batch 050/937 | Cost: 0.24\n",
      "Epoch: 004/010 | Batch 100/937 | Cost: 0.47\n",
      "Epoch: 004/010 | Batch 150/937 | Cost: 0.24\n",
      "Epoch: 004/010 | Batch 200/937 | Cost: 0.20\n",
      "Epoch: 004/010 | Batch 250/937 | Cost: 0.21\n",
      "Epoch: 004/010 | Batch 300/937 | Cost: 0.61\n",
      "Epoch: 004/010 | Batch 350/937 | Cost: 0.34\n",
      "Epoch: 004/010 | Batch 400/937 | Cost: 0.78\n",
      "Epoch: 004/010 | Batch 450/937 | Cost: 0.16\n",
      "Epoch: 004/010 | Batch 500/937 | Cost: 0.42\n",
      "Epoch: 004/010 | Batch 550/937 | Cost: 0.24\n",
      "Epoch: 004/010 | Batch 600/937 | Cost: 0.19\n",
      "Epoch: 004/010 | Batch 650/937 | Cost: 0.32\n",
      "Epoch: 004/010 | Batch 700/937 | Cost: 0.28\n",
      "Epoch: 004/010 | Batch 750/937 | Cost: 0.22\n",
      "Epoch: 004/010 | Batch 800/937 | Cost: 0.37\n",
      "Epoch: 004/010 | Batch 850/937 | Cost: 0.49\n",
      "Epoch: 004/010 | Batch 900/937 | Cost: 0.48\n",
      "Epoch: 004/010 training accuracy: 0.91\n",
      "Epoch: 004/010 training accuracy: 0.91\n",
      "Epoch: 005/010 | Batch 000/937 | Cost: 0.65\n",
      "Epoch: 005/010 | Batch 050/937 | Cost: 0.40\n",
      "Epoch: 005/010 | Batch 100/937 | Cost: 0.15\n",
      "Epoch: 005/010 | Batch 150/937 | Cost: 0.23\n",
      "Epoch: 005/010 | Batch 200/937 | Cost: 0.30\n",
      "Epoch: 005/010 | Batch 250/937 | Cost: 0.28\n",
      "Epoch: 005/010 | Batch 300/937 | Cost: 0.85\n",
      "Epoch: 005/010 | Batch 350/937 | Cost: 0.37\n",
      "Epoch: 005/010 | Batch 400/937 | Cost: 0.18\n",
      "Epoch: 005/010 | Batch 450/937 | Cost: 0.48\n",
      "Epoch: 005/010 | Batch 500/937 | Cost: 0.46\n",
      "Epoch: 005/010 | Batch 550/937 | Cost: 0.52\n",
      "Epoch: 005/010 | Batch 600/937 | Cost: 0.48\n",
      "Epoch: 005/010 | Batch 650/937 | Cost: 0.38\n",
      "Epoch: 005/010 | Batch 700/937 | Cost: 0.17\n",
      "Epoch: 005/010 | Batch 750/937 | Cost: 0.32\n",
      "Epoch: 005/010 | Batch 800/937 | Cost: 0.31\n",
      "Epoch: 005/010 | Batch 850/937 | Cost: 0.68\n",
      "Epoch: 005/010 | Batch 900/937 | Cost: 0.60\n",
      "Epoch: 005/010 training accuracy: 0.92\n",
      "Epoch: 005/010 training accuracy: 0.91\n",
      "Epoch: 006/010 | Batch 000/937 | Cost: 0.45\n",
      "Epoch: 006/010 | Batch 050/937 | Cost: 0.48\n",
      "Epoch: 006/010 | Batch 100/937 | Cost: 0.29\n",
      "Epoch: 006/010 | Batch 150/937 | Cost: 0.33\n",
      "Epoch: 006/010 | Batch 200/937 | Cost: 0.28\n",
      "Epoch: 006/010 | Batch 250/937 | Cost: 0.65\n",
      "Epoch: 006/010 | Batch 300/937 | Cost: 0.50\n",
      "Epoch: 006/010 | Batch 350/937 | Cost: 0.40\n",
      "Epoch: 006/010 | Batch 400/937 | Cost: 0.31\n",
      "Epoch: 006/010 | Batch 450/937 | Cost: 0.20\n",
      "Epoch: 006/010 | Batch 500/937 | Cost: 0.67\n",
      "Epoch: 006/010 | Batch 550/937 | Cost: 0.64\n",
      "Epoch: 006/010 | Batch 600/937 | Cost: 0.48\n",
      "Epoch: 006/010 | Batch 650/937 | Cost: 1.08\n",
      "Epoch: 006/010 | Batch 700/937 | Cost: 0.73\n",
      "Epoch: 006/010 | Batch 750/937 | Cost: 0.42\n",
      "Epoch: 006/010 | Batch 800/937 | Cost: 0.65\n",
      "Epoch: 006/010 | Batch 850/937 | Cost: 0.51\n",
      "Epoch: 006/010 | Batch 900/937 | Cost: 0.51\n",
      "Epoch: 006/010 training accuracy: 0.91\n",
      "Epoch: 006/010 training accuracy: 0.90\n",
      "Epoch: 007/010 | Batch 000/937 | Cost: 0.13\n",
      "Epoch: 007/010 | Batch 050/937 | Cost: 0.38\n",
      "Epoch: 007/010 | Batch 100/937 | Cost: 0.67\n",
      "Epoch: 007/010 | Batch 150/937 | Cost: 0.29\n",
      "Epoch: 007/010 | Batch 200/937 | Cost: 0.57\n",
      "Epoch: 007/010 | Batch 250/937 | Cost: 0.50\n",
      "Epoch: 007/010 | Batch 300/937 | Cost: 0.13\n",
      "Epoch: 007/010 | Batch 350/937 | Cost: 0.47\n",
      "Epoch: 007/010 | Batch 400/937 | Cost: 0.41\n",
      "Epoch: 007/010 | Batch 450/937 | Cost: 0.79\n",
      "Epoch: 007/010 | Batch 500/937 | Cost: 0.36\n",
      "Epoch: 007/010 | Batch 550/937 | Cost: 0.63\n",
      "Epoch: 007/010 | Batch 600/937 | Cost: 0.70\n",
      "Epoch: 007/010 | Batch 650/937 | Cost: 0.93\n",
      "Epoch: 007/010 | Batch 700/937 | Cost: 0.84\n",
      "Epoch: 007/010 | Batch 750/937 | Cost: 0.48\n",
      "Epoch: 007/010 | Batch 800/937 | Cost: 0.30\n",
      "Epoch: 007/010 | Batch 850/937 | Cost: 0.74\n",
      "Epoch: 007/010 | Batch 900/937 | Cost: 0.29\n",
      "Epoch: 007/010 training accuracy: 0.91\n",
      "Epoch: 007/010 training accuracy: 0.90\n",
      "Epoch: 008/010 | Batch 000/937 | Cost: 0.52\n",
      "Epoch: 008/010 | Batch 050/937 | Cost: 0.39\n",
      "Epoch: 008/010 | Batch 100/937 | Cost: 0.30\n",
      "Epoch: 008/010 | Batch 150/937 | Cost: 0.22\n",
      "Epoch: 008/010 | Batch 200/937 | Cost: 0.13\n",
      "Epoch: 008/010 | Batch 250/937 | Cost: 0.11\n",
      "Epoch: 008/010 | Batch 300/937 | Cost: 0.39\n",
      "Epoch: 008/010 | Batch 350/937 | Cost: 0.26\n",
      "Epoch: 008/010 | Batch 400/937 | Cost: 0.41\n",
      "Epoch: 008/010 | Batch 450/937 | Cost: 0.64\n",
      "Epoch: 008/010 | Batch 500/937 | Cost: 0.14\n",
      "Epoch: 008/010 | Batch 550/937 | Cost: 0.30\n",
      "Epoch: 008/010 | Batch 600/937 | Cost: 0.62\n",
      "Epoch: 008/010 | Batch 650/937 | Cost: 0.31\n",
      "Epoch: 008/010 | Batch 700/937 | Cost: 0.57\n",
      "Epoch: 008/010 | Batch 750/937 | Cost: 0.37\n",
      "Epoch: 008/010 | Batch 800/937 | Cost: 0.33\n",
      "Epoch: 008/010 | Batch 850/937 | Cost: 0.23\n",
      "Epoch: 008/010 | Batch 900/937 | Cost: 0.79\n",
      "Epoch: 008/010 training accuracy: 0.90\n",
      "Epoch: 008/010 training accuracy: 0.89\n",
      "Epoch: 009/010 | Batch 000/937 | Cost: 0.57\n",
      "Epoch: 009/010 | Batch 050/937 | Cost: 0.70\n",
      "Epoch: 009/010 | Batch 100/937 | Cost: 0.76\n",
      "Epoch: 009/010 | Batch 150/937 | Cost: 0.32\n",
      "Epoch: 009/010 | Batch 200/937 | Cost: 0.92\n",
      "Epoch: 009/010 | Batch 250/937 | Cost: 0.85\n",
      "Epoch: 009/010 | Batch 300/937 | Cost: 0.57\n",
      "Epoch: 009/010 | Batch 350/937 | Cost: 0.39\n",
      "Epoch: 009/010 | Batch 400/937 | Cost: 0.50\n",
      "Epoch: 009/010 | Batch 450/937 | Cost: 0.43\n",
      "Epoch: 009/010 | Batch 500/937 | Cost: 0.08\n",
      "Epoch: 009/010 | Batch 550/937 | Cost: 0.40\n",
      "Epoch: 009/010 | Batch 600/937 | Cost: 0.32\n",
      "Epoch: 009/010 | Batch 650/937 | Cost: 0.89\n",
      "Epoch: 009/010 | Batch 700/937 | Cost: 0.52\n",
      "Epoch: 009/010 | Batch 750/937 | Cost: 0.24\n",
      "Epoch: 009/010 | Batch 800/937 | Cost: 1.44\n",
      "Epoch: 009/010 | Batch 850/937 | Cost: 1.00\n",
      "Epoch: 009/010 | Batch 900/937 | Cost: 0.62\n",
      "Epoch: 009/010 training accuracy: 0.90\n",
      "Epoch: 009/010 training accuracy: 0.89\n",
      "Epoch: 010/010 | Batch 000/937 | Cost: 0.94\n"
     ]
    },
    {
     "name": "stdout",
     "output_type": "stream",
     "text": [
      "Epoch: 010/010 | Batch 050/937 | Cost: 0.26\n",
      "Epoch: 010/010 | Batch 100/937 | Cost: 0.38\n",
      "Epoch: 010/010 | Batch 150/937 | Cost: 0.79\n",
      "Epoch: 010/010 | Batch 200/937 | Cost: 0.28\n",
      "Epoch: 010/010 | Batch 250/937 | Cost: 0.36\n",
      "Epoch: 010/010 | Batch 300/937 | Cost: 0.60\n",
      "Epoch: 010/010 | Batch 350/937 | Cost: 0.68\n",
      "Epoch: 010/010 | Batch 400/937 | Cost: 0.09\n",
      "Epoch: 010/010 | Batch 450/937 | Cost: 0.11\n",
      "Epoch: 010/010 | Batch 500/937 | Cost: 0.58\n",
      "Epoch: 010/010 | Batch 550/937 | Cost: 0.63\n",
      "Epoch: 010/010 | Batch 600/937 | Cost: 0.45\n",
      "Epoch: 010/010 | Batch 650/937 | Cost: 0.50\n",
      "Epoch: 010/010 | Batch 700/937 | Cost: 0.97\n",
      "Epoch: 010/010 | Batch 750/937 | Cost: 0.65\n",
      "Epoch: 010/010 | Batch 800/937 | Cost: 0.29\n",
      "Epoch: 010/010 | Batch 850/937 | Cost: 0.71\n",
      "Epoch: 010/010 | Batch 900/937 | Cost: 0.22\n",
      "Epoch: 010/010 training accuracy: 0.92\n",
      "Epoch: 010/010 training accuracy: 0.91\n"
     ]
    }
   ],
   "source": [
    "train_model(model, data_loader, optimizer, num_epochs, metric_func=compute_accuracy)"
   ]
  },
  {
   "cell_type": "code",
   "execution_count": null,
   "metadata": {},
   "outputs": [],
   "source": []
  }
 ],
 "metadata": {
  "kernelspec": {
   "display_name": "tryit",
   "language": "python",
   "name": "tryit"
  },
  "language_info": {
   "codemirror_mode": {
    "name": "ipython",
    "version": 3
   },
   "file_extension": ".py",
   "mimetype": "text/x-python",
   "name": "python",
   "nbconvert_exporter": "python",
   "pygments_lexer": "ipython3",
   "version": "3.6.9"
  }
 },
 "nbformat": 4,
 "nbformat_minor": 2
}
