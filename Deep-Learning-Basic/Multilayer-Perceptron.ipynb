{
 "cells": [
  {
   "cell_type": "code",
   "execution_count": 1,
   "metadata": {},
   "outputs": [
    {
     "data": {
      "text/plain": [
       "['/Users/ZRC/miniconda3/envs/tryit/lib/python36.zip',\n",
       " '/Users/ZRC/miniconda3/envs/tryit/lib/python3.6',\n",
       " '/Users/ZRC/miniconda3/envs/tryit/lib/python3.6/lib-dynload',\n",
       " '',\n",
       " '/Users/ZRC/miniconda3/envs/tryit/lib/python3.6/site-packages',\n",
       " '/Users/ZRC/miniconda3/envs/tryit/lib/python3.6/site-packages/IPython/extensions',\n",
       " '/Users/ZRC/.ipython',\n",
       " '/Users/ZRC']"
      ]
     },
     "execution_count": 1,
     "metadata": {},
     "output_type": "execute_result"
    }
   ],
   "source": [
    "import sys\n",
    "sys.path.append(\"/Users/ZRC\")\n",
    "sys.path"
   ]
  },
  {
   "cell_type": "code",
   "execution_count": 2,
   "metadata": {},
   "outputs": [],
   "source": [
    "%load_ext autoreload\n",
    "%autoreload 2"
   ]
  },
  {
   "cell_type": "code",
   "execution_count": 21,
   "metadata": {},
   "outputs": [],
   "source": [
    "import matplotlib.pyplot as plt\n",
    "import numpy as np\n",
    "\n",
    "import torch\n",
    "import torch.nn.functional as F\n",
    "\n",
    "from torch.utils.data import DataLoader\n",
    "from torch.utils.data import RandomSampler\n",
    "\n",
    "\n",
    "from torchvision import datasets\n",
    "from torchvision import transforms\n",
    "\n",
    "from torchsummary import summary"
   ]
  },
  {
   "cell_type": "code",
   "execution_count": 95,
   "metadata": {},
   "outputs": [],
   "source": [
    "from coke.visualization.image import show_batch\n",
    "from coke.models.customized_metrics import compute_accuracy"
   ]
  },
  {
   "cell_type": "code",
   "execution_count": 48,
   "metadata": {},
   "outputs": [],
   "source": [
    "device = torch.device(\"cuda: 0\" if torch.cuda.is_available() else \"cpu\")"
   ]
  },
  {
   "cell_type": "markdown",
   "metadata": {},
   "source": [
    "## Setting"
   ]
  },
  {
   "cell_type": "code",
   "execution_count": 113,
   "metadata": {},
   "outputs": [],
   "source": [
    "# Hyperparameters\n",
    "batch_size = 64\n",
    "num_features = 28 * 28\n",
    "learning_rate = 0.1\n",
    "random_seed = 7\n",
    "num_epochs = 3\n",
    "DROP_OUT_PROB = 0.5\n",
    "\n",
    "\n",
    "# Architecture\n",
    "HIDDEN_NUMS_1 = 128\n",
    "HIDDEN_NUMS_2 = 256\n",
    "num_classes = 10"
   ]
  },
  {
   "cell_type": "code",
   "execution_count": 83,
   "metadata": {},
   "outputs": [],
   "source": [
    "data_transforms = {\n",
    "    'train': transforms.Compose([\n",
    "#         transforms.RandomHorizontalFlip(),\n",
    "        transforms.ToTensor(),\n",
    "    ]),\n",
    "    'val': transforms.Compose([\n",
    "        transforms.ToTensor(),\n",
    "    ]),\n",
    "}"
   ]
  },
  {
   "cell_type": "code",
   "execution_count": 84,
   "metadata": {},
   "outputs": [],
   "source": [
    "train_dataset = datasets.MNIST(root = \"data\", \n",
    "                               train = True, \n",
    "                               transform= data_transforms[\"train\"], \n",
    "                               download= True )\n",
    "\n",
    "val_dataset = datasets.MNIST(root = \"data\", \n",
    "                               train = False, \n",
    "                               transform= data_transforms[\"val\"], \n",
    "                               ) \n",
    "\n",
    "train_loader = DataLoader(dataset = train_dataset, \n",
    "                          batch_size=batch_size, \n",
    "                          shuffle= True)\n",
    "\n",
    "val_loader = DataLoader(dataset = val_dataset,\n",
    "                         batch_size=batch_size,\n",
    "                         shuffle= False)\n",
    "\n",
    "data_loader = {\"train\": train_loader, \"val\": val_loader}"
   ]
  },
  {
   "cell_type": "code",
   "execution_count": 85,
   "metadata": {},
   "outputs": [],
   "source": [
    "inputs, classes = next(iter(data_loader[\"train\"]))"
   ]
  },
  {
   "cell_type": "code",
   "execution_count": 86,
   "metadata": {},
   "outputs": [
    {
     "data": {
      "text/plain": [
       "(torch.Size([64, 1, 28, 28]), torch.Size([64]))"
      ]
     },
     "execution_count": 86,
     "metadata": {},
     "output_type": "execute_result"
    }
   ],
   "source": [
    "inputs.size(), classes.size()"
   ]
  },
  {
   "cell_type": "code",
   "execution_count": 87,
   "metadata": {},
   "outputs": [
    {
     "data": {
      "image/png": "[encoded data removed]",
      "text/plain": [
       "<Figure size 864x576 with 16 Axes>"
      ]
     },
     "metadata": {
      "needs_background": "light"
     },
     "output_type": "display_data"
    }
   ],
   "source": [
    "show_batch(inputs.squeeze().numpy(),classes.numpy(),(4,4))"
   ]
  },
  {
   "cell_type": "code",
   "execution_count": 114,
   "metadata": {},
   "outputs": [],
   "source": [
    "def init_weights(layer):\n",
    "    if type(layer) == torch.nn.Linear:\n",
    "        torch.nn.init.xavier_uniform_(layer.weight)\n",
    "#         torch.nn.init.normal_(layer.weight, 0.0, 0.1)\n",
    "        torch.nn.init.constant_(layer.bias.data, 0)"
   ]
  },
  {
   "cell_type": "markdown",
   "metadata": {},
   "source": [
    "## Model"
   ]
  },
  {
   "cell_type": "code",
   "execution_count": 115,
   "metadata": {},
   "outputs": [],
   "source": [
    "class MultilayerPerceptronZrc(torch.nn.Module):\n",
    "    def __init__(self, num_features, num_classes):\n",
    "        super(MultilayerPerceptronZrc,self).__init__()\n",
    "        \n",
    "        self.f1 = torch.nn.Linear(num_features,HIDDEN_NUMS_1)\n",
    "        self.f2 = torch.nn.Linear(HIDDEN_NUMS_1,HIDDEN_NUMS_2)\n",
    "        self.f_out = torch.nn.Linear(HIDDEN_NUMS_2, num_classes)\n",
    "        self.drop_1 = torch.nn.Dropout(p = DROP_OUT_PROB)\n",
    "        self.drop_2 = torch.nn.Dropout(p = DROP_OUT_PROB)\n",
    "    \n",
    "    def forward(self,x):\n",
    "        x = self.f1(x)\n",
    "        x = F.relu(x)\n",
    "        x = self.drop_1(x)\n",
    "        \n",
    "        x = self.f2(x)\n",
    "        x = F.relu(x)\n",
    "        x = self.drop_2(x)\n",
    "        \n",
    "        logits = self.f_out(x)\n",
    "        probas = F.softmax(logits, dim = 1)\n",
    "        \n",
    "        return logits, probas \n",
    "    \n",
    "    \n",
    "model = MultilayerPerceptronZrc(num_features= num_features, \n",
    "                              num_classes = num_classes)\n",
    "model.apply(init_weights)\n",
    "model = model.to(device)\n",
    "optimizer = torch.optim.SGD(model.parameters(), lr = learning_rate)"
   ]
  },
  {
   "cell_type": "code",
   "execution_count": 116,
   "metadata": {},
   "outputs": [
    {
     "name": "stdout",
     "output_type": "stream",
     "text": [
      "----------------------------------------------------------------\n",
      "        Layer (type)               Output Shape         Param #\n",
      "================================================================\n",
      "            Linear-1                  [-1, 128]         100,480\n",
      "           Dropout-2                  [-1, 128]               0\n",
      "            Linear-3                  [-1, 256]          33,024\n",
      "           Dropout-4                  [-1, 256]               0\n",
      "            Linear-5                   [-1, 10]           2,570\n",
      "================================================================\n",
      "Total params: 136,074\n",
      "Trainable params: 136,074\n",
      "Non-trainable params: 0\n",
      "----------------------------------------------------------------\n",
      "Input size (MB): 0.00\n",
      "Forward/backward pass size (MB): 0.01\n",
      "Params size (MB): 0.52\n",
      "Estimated Total Size (MB): 0.53\n",
      "----------------------------------------------------------------\n"
     ]
    }
   ],
   "source": [
    "summary(model, (28*28,))"
   ]
  },
  {
   "cell_type": "code",
   "execution_count": 117,
   "metadata": {},
   "outputs": [],
   "source": [
    "def train_model(model, data_loader, optimizer, num_epochs, metric_func, random_seed = 7):\n",
    "    # Manual seed for deterministic data loader\n",
    "    torch.manual_seed(random_seed)\n",
    "    for epoch in range(num_epochs):\n",
    "        # set training mode\n",
    "        model.train() \n",
    "        for batch_idx, (features, targets) in enumerate(data_loader[\"train\"]):\n",
    "            features = features.view(-1, num_features).to(device)\n",
    "            targets = targets.to(device)\n",
    "\n",
    "\n",
    "            ## forward pass\n",
    "            logits, probas = model(features)\n",
    "            loss = F.cross_entropy(logits,targets)\n",
    "\n",
    "            # backward pass\n",
    "            # clear the gradients of all tensors being optimized\n",
    "            optimizer.zero_grad()\n",
    "            loss.backward()\n",
    "            optimizer.step()\n",
    "\n",
    "            ### Login\n",
    "            if not batch_idx % 50:\n",
    "                print ('Epoch: {0:03d}/{1:03d} | Batch {2:03d}/{3:03d} | Loss: {4:.2f}'.format(\n",
    "                    epoch+1, num_epochs, batch_idx, \n",
    "                         len(train_dataset)//batch_size, loss))\n",
    "\n",
    "        with torch.set_grad_enabled(False):\n",
    "            print('Epoch: {0:03d}/{1:03d} training accuracy: {2:.2f}'.format(\n",
    "                  epoch+1, num_epochs, \n",
    "                  metric_func(model, data_loader[\"train\"], device)))\n",
    "            \n",
    "            print('Epoch: {0:03d}/{1:03d} training accuracy: {2:.2f}'.format(\n",
    "                  epoch+1, num_epochs, \n",
    "                  metric_func(model, data_loader[\"val\"], device)))"
   ]
  },
  {
   "cell_type": "code",
   "execution_count": 118,
   "metadata": {},
   "outputs": [
    {
     "name": "stdout",
     "output_type": "stream",
     "text": [
      "Epoch: 001/003 | Batch 000/937 | Loss: 2.30\n",
      "Epoch: 001/003 | Batch 050/937 | Loss: 1.26\n",
      "Epoch: 001/003 | Batch 100/937 | Loss: 0.87\n",
      "Epoch: 001/003 | Batch 150/937 | Loss: 0.60\n",
      "Epoch: 001/003 | Batch 200/937 | Loss: 0.63\n",
      "Epoch: 001/003 | Batch 250/937 | Loss: 0.61\n",
      "Epoch: 001/003 | Batch 300/937 | Loss: 0.61\n",
      "Epoch: 001/003 | Batch 350/937 | Loss: 0.69\n",
      "Epoch: 001/003 | Batch 400/937 | Loss: 0.61\n",
      "Epoch: 001/003 | Batch 450/937 | Loss: 0.52\n",
      "Epoch: 001/003 | Batch 500/937 | Loss: 0.44\n",
      "Epoch: 001/003 | Batch 550/937 | Loss: 0.42\n",
      "Epoch: 001/003 | Batch 600/937 | Loss: 0.39\n",
      "Epoch: 001/003 | Batch 650/937 | Loss: 0.26\n",
      "Epoch: 001/003 | Batch 700/937 | Loss: 0.27\n",
      "Epoch: 001/003 | Batch 750/937 | Loss: 0.27\n",
      "Epoch: 001/003 | Batch 800/937 | Loss: 0.38\n",
      "Epoch: 001/003 | Batch 850/937 | Loss: 0.24\n",
      "Epoch: 001/003 | Batch 900/937 | Loss: 0.40\n",
      "Epoch: 001/003 training accuracy: 0.93\n",
      "Epoch: 001/003 training accuracy: 0.94\n",
      "Epoch: 002/003 | Batch 000/937 | Loss: 0.40\n",
      "Epoch: 002/003 | Batch 050/937 | Loss: 0.57\n",
      "Epoch: 002/003 | Batch 100/937 | Loss: 0.40\n",
      "Epoch: 002/003 | Batch 150/937 | Loss: 0.33\n",
      "Epoch: 002/003 | Batch 200/937 | Loss: 0.45\n",
      "Epoch: 002/003 | Batch 250/937 | Loss: 0.43\n",
      "Epoch: 002/003 | Batch 300/937 | Loss: 0.34\n",
      "Epoch: 002/003 | Batch 350/937 | Loss: 0.37\n",
      "Epoch: 002/003 | Batch 400/937 | Loss: 0.52\n",
      "Epoch: 002/003 | Batch 450/937 | Loss: 0.33\n",
      "Epoch: 002/003 | Batch 500/937 | Loss: 0.21\n",
      "Epoch: 002/003 | Batch 550/937 | Loss: 0.33\n",
      "Epoch: 002/003 | Batch 600/937 | Loss: 0.42\n",
      "Epoch: 002/003 | Batch 650/937 | Loss: 0.19\n",
      "Epoch: 002/003 | Batch 700/937 | Loss: 0.39\n",
      "Epoch: 002/003 | Batch 750/937 | Loss: 0.33\n",
      "Epoch: 002/003 | Batch 800/937 | Loss: 0.24\n",
      "Epoch: 002/003 | Batch 850/937 | Loss: 0.35\n",
      "Epoch: 002/003 | Batch 900/937 | Loss: 0.26\n",
      "Epoch: 002/003 training accuracy: 0.95\n",
      "Epoch: 002/003 training accuracy: 0.95\n",
      "Epoch: 003/003 | Batch 000/937 | Loss: 0.20\n",
      "Epoch: 003/003 | Batch 050/937 | Loss: 0.18\n",
      "Epoch: 003/003 | Batch 100/937 | Loss: 0.32\n",
      "Epoch: 003/003 | Batch 150/937 | Loss: 0.46\n",
      "Epoch: 003/003 | Batch 200/937 | Loss: 0.33\n",
      "Epoch: 003/003 | Batch 250/937 | Loss: 0.24\n",
      "Epoch: 003/003 | Batch 300/937 | Loss: 0.24\n",
      "Epoch: 003/003 | Batch 350/937 | Loss: 0.31\n",
      "Epoch: 003/003 | Batch 400/937 | Loss: 0.26\n",
      "Epoch: 003/003 | Batch 450/937 | Loss: 0.23\n",
      "Epoch: 003/003 | Batch 500/937 | Loss: 0.23\n",
      "Epoch: 003/003 | Batch 550/937 | Loss: 0.10\n",
      "Epoch: 003/003 | Batch 600/937 | Loss: 0.27\n",
      "Epoch: 003/003 | Batch 650/937 | Loss: 0.15\n",
      "Epoch: 003/003 | Batch 700/937 | Loss: 0.47\n",
      "Epoch: 003/003 | Batch 750/937 | Loss: 0.23\n",
      "Epoch: 003/003 | Batch 800/937 | Loss: 0.24\n",
      "Epoch: 003/003 | Batch 850/937 | Loss: 0.28\n",
      "Epoch: 003/003 | Batch 900/937 | Loss: 0.16\n",
      "Epoch: 003/003 training accuracy: 0.96\n",
      "Epoch: 003/003 training accuracy: 0.96\n"
     ]
    }
   ],
   "source": [
    "train_model(model, data_loader, optimizer, num_epochs, metric_func = compute_accuracy)"
   ]
  },
  {
   "cell_type": "code",
   "execution_count": null,
   "metadata": {},
   "outputs": [],
   "source": []
  }
 ],
 "metadata": {
  "kernelspec": {
   "display_name": "tryit",
   "language": "python",
   "name": "tryit"
  },
  "language_info": {
   "codemirror_mode": {
    "name": "ipython",
    "version": 3
   },
   "file_extension": ".py",
   "mimetype": "text/x-python",
   "name": "python",
   "nbconvert_exporter": "python",
   "pygments_lexer": "ipython3",
   "version": "3.6.9"
  }
 },
 "nbformat": 4,
 "nbformat_minor": 4
}
