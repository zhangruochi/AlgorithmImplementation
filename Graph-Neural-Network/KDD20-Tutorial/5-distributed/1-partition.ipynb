{
 "cells": [
  {
   "cell_type": "code",
   "execution_count": null,
   "metadata": {},
   "outputs": [],
   "source": [
    "import dgl\n",
    "import numpy as np\n",
    "import torch as th\n",
    "\n",
    "from load_graph import load_reddit, load_ogb"
   ]
  },
  {
   "cell_type": "markdown",
   "metadata": {},
   "source": [
    "# Copy and load the graph\n",
    "\n",
    "Copy the OGB product graph downloaded in Section 4 to the local folder."
   ]
  },
  {
   "cell_type": "code",
   "execution_count": null,
   "metadata": {},
   "outputs": [],
   "source": [
    "!mkdir -p dataset/ogbn_products_dgl\n",
    "!cp ../4-large_graph/ogbn-products.zip dataset/ogbn_products_dgl\n",
    "!unzip dataset/ogbn_products_dgl/ogbn-products.zip -d dataset/ogbn_products_dgl"
   ]
  },
  {
   "cell_type": "markdown",
   "metadata": {},
   "source": [
    "Load the OGB product graph into DGL.\n",
    "\n",
    "There is a prompt message `Will you update the dataset now? (y/N)` Please answer `N` to avoid download the dataset from the offical website."
   ]
  },
  {
   "cell_type": "code",
   "execution_count": null,
   "metadata": {},
   "outputs": [],
   "source": [
    "graph_name = 'ogbn-products'\n",
    "# graph_name = 'ogbn-papers100M'\n",
    "g, _ = load_ogb(graph_name)"
   ]
  },
  {
   "cell_type": "code",
   "execution_count": null,
   "metadata": {},
   "outputs": [],
   "source": [
    "print('#nodes:', g.number_of_nodes())\n",
    "print('#edges:', g.number_of_edges())"
   ]
  },
  {
   "cell_type": "markdown",
   "metadata": {},
   "source": [
    "The graph has node features and labels. In addition, its node data have three mask arrays to indicate whether a node belongs to a training, validation or testing set."
   ]
  },
  {
   "cell_type": "code",
   "execution_count": null,
   "metadata": {},
   "outputs": [],
   "source": [
    "print(list(g.ndata.keys()))"
   ]
  },
  {
   "cell_type": "markdown",
   "metadata": {},
   "source": [
    "This dataset doesn't have any edge data."
   ]
  },
  {
   "cell_type": "code",
   "execution_count": null,
   "metadata": {},
   "outputs": [],
   "source": [
    "print(list(g.edata.keys()))"
   ]
  },
  {
   "cell_type": "markdown",
   "metadata": {},
   "source": [
    "# Partition a graph with one partition\n",
    "\n",
    "This converts the OGB product graph into the DGL format for distributed training. It is used for the standalone mode. "
   ]
  },
  {
   "cell_type": "code",
   "execution_count": null,
   "metadata": {},
   "outputs": [],
   "source": [
    "balance_ntypes = g.ndata['train_mask']\n",
    "dgl.distributed.partition_graph(g, graph_name=graph_name, num_parts=1, out_path='standalone_data')"
   ]
  },
  {
   "cell_type": "markdown",
   "metadata": {},
   "source": [
    "# Partition a graph with 4 partitions\n",
    "\n",
    "This partitions a graph into 4 parts and balance the number of nodes in the training set as well as the number of edges."
   ]
  },
  {
   "cell_type": "code",
   "execution_count": null,
   "metadata": {},
   "outputs": [],
   "source": [
    "balance_ntypes = g.ndata['train_mask']\n",
    "dgl.distributed.partition_graph(g, graph_name=graph_name, num_parts=4, out_path='4part_data',\n",
    "                                balance_ntypes=balance_ntypes,\n",
    "                                balance_edges=True)"
   ]
  },
  {
   "cell_type": "code",
   "execution_count": null,
   "metadata": {},
   "outputs": [],
   "source": []
  }
 ],
 "metadata": {
  "kernelspec": {
   "display_name": "Python 3",
   "language": "python",
   "name": "python3"
  },
  "language_info": {
   "codemirror_mode": {
    "name": "ipython",
    "version": 3
   },
   "file_extension": ".py",
   "mimetype": "text/x-python",
   "name": "python",
   "nbconvert_exporter": "python",
   "pygments_lexer": "ipython3",
   "version": "3.6.9"
  }
 },
 "nbformat": 4,
 "nbformat_minor": 2
}
